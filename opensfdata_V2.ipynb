{
  "nbformat": 4,
  "nbformat_minor": 0,
  "metadata": {
    "colab": {
      "name": "opensfdata_V2.ipynb",
      "provenance": [],
      "collapsed_sections": [
        "RU9yjz_2mVrs",
        "IP_ErvLCmeZj",
        "Vf6FMQGVTw5-",
        "diBfMRh0k5KI",
        "tIcK1n85wy3_",
        "qm_Di7fQzUKX",
        "Kfkx7EjV2hPK"
      ],
      "authorship_tag": "ABX9TyOc8PNOlFhxRaKiigItUnu0",
      "include_colab_link": true
    },
    "kernelspec": {
      "name": "python3",
      "display_name": "Python 3"
    }
  },
  "cells": [
    {
      "cell_type": "markdown",
      "metadata": {
        "id": "view-in-github",
        "colab_type": "text"
      },
      "source": [
        "<a href=\"https://colab.research.google.com/github/divyadixit/GL_Aug_Hackathon_OpenDataSF/blob/master/opensfdata_V2.ipynb\" target=\"_parent\"><img src=\"https://colab.research.google.com/assets/colab-badge.svg\" alt=\"Open In Colab\"/></a>"
      ]
    },
    {
      "cell_type": "markdown",
      "metadata": {
        "id": "BSsRXQzXKryA",
        "colab_type": "text"
      },
      "source": [
        "#Context\n",
        "Salary range is the range of pay established by employers to pay to employees performing a particular job or function. Salary range generally has a minimum pay rate,a maximum pay rate, and a series of mid-range opportunities for pay increases.The salary range is determined by market pay rates, organization, department, union,type and domain of jobs, established through market pay studies, for people doing similar work in similar industries in the same region of the country.Pay rates and salary ranges are also set up by individual employers and recognize the level of education, knowledge, skill and experience needed to perform each job.\n",
        "\n",
        "#About Dataset\n",
        "Its a database of the salary and benefits paid to City employees since fiscal year 2013.This data is summarized and presented on the Employee Compensation report hostedat ​http://openbook.sfgov.org​."
      ]
    },
    {
      "cell_type": "markdown",
      "metadata": {
        "id": "mYb6MZveEsya",
        "colab_type": "text"
      },
      "source": [
        "#### https://datasf.org/opendata/\n",
        "#### https://data.sfgov.org/browse?category=City+Management+and+Ethics\n"
      ]
    },
    {
      "cell_type": "code",
      "metadata": {
        "id": "0tLAyI0xJAOM",
        "colab_type": "code",
        "colab": {
          "base_uri": "https://localhost:8080/",
          "height": 72
        },
        "outputId": "289d3e3a-5d59-430e-e10d-65e74949a215"
      },
      "source": [
        "# importing necessary libraries\n",
        "\n",
        "import pandas as pd\n",
        "import numpy as np\n",
        "import matplotlib.pyplot as plt\n",
        "import seaborn as sns\n",
        "from sklearn.model_selection import KFold\n",
        "from sklearn.model_selection import cross_val_score\n",
        "\n",
        "%matplotlib inline\n",
        "from IPython.core.interactiveshell import InteractiveShell\n",
        "InteractiveShell.ast_node_interactivity = \"all\"\n"
      ],
      "execution_count": 1,
      "outputs": [
        {
          "output_type": "stream",
          "text": [
            "/usr/local/lib/python3.6/dist-packages/statsmodels/tools/_testing.py:19: FutureWarning: pandas.util.testing is deprecated. Use the functions in the public API at pandas.testing instead.\n",
            "  import pandas.util.testing as tm\n"
          ],
          "name": "stderr"
        }
      ]
    },
    {
      "cell_type": "code",
      "metadata": {
        "id": "M8K5gfjHWy7s",
        "colab_type": "code",
        "colab": {
          "base_uri": "https://localhost:8080/",
          "height": 124
        },
        "outputId": "d20ca13a-6636-4020-fe90-9d35681515a9"
      },
      "source": [
        "from google.colab import drive\n",
        "drive.mount('/content/drive')"
      ],
      "execution_count": 2,
      "outputs": [
        {
          "output_type": "stream",
          "text": [
            "Go to this URL in a browser: https://accounts.google.com/o/oauth2/auth?client_id=947318989803-6bn6qk8qdgf4n4g3pfee6491hc0brc4i.apps.googleusercontent.com&redirect_uri=urn%3aietf%3awg%3aoauth%3a2.0%3aoob&scope=email%20https%3a%2f%2fwww.googleapis.com%2fauth%2fdocs.test%20https%3a%2f%2fwww.googleapis.com%2fauth%2fdrive%20https%3a%2f%2fwww.googleapis.com%2fauth%2fdrive.photos.readonly%20https%3a%2f%2fwww.googleapis.com%2fauth%2fpeopleapi.readonly&response_type=code\n",
            "\n",
            "Enter your authorization code:\n",
            "··········\n",
            "Mounted at /content/drive\n"
          ],
          "name": "stdout"
        }
      ]
    },
    {
      "cell_type": "code",
      "metadata": {
        "id": "D8R-xXVMXDu7",
        "colab_type": "code",
        "colab": {}
      },
      "source": [
        "df1 = pd.read_csv('/content/drive/My Drive/hackathon/train.csv')\n",
        "df2 = pd.read_csv('/content/drive/My Drive/hackathon/test.csv')"
      ],
      "execution_count": 3,
      "outputs": []
    },
    {
      "cell_type": "code",
      "metadata": {
        "id": "Jfa1QJPiUX_O",
        "colab_type": "code",
        "colab": {}
      },
      "source": [
        "#df1 = pd.read_csv('train.csv')\n",
        "#df2 = pd.read_csv('test.csv')"
      ],
      "execution_count": 4,
      "outputs": []
    },
    {
      "cell_type": "code",
      "metadata": {
        "id": "7C4-CwOlUhFd",
        "colab_type": "code",
        "colab": {
          "base_uri": "https://localhost:8080/",
          "height": 954
        },
        "outputId": "02f73e83-a270-4a9d-d3c8-56d4eda2d463"
      },
      "source": [
        "df1.head()\n",
        "df2.head()"
      ],
      "execution_count": 5,
      "outputs": [
        {
          "output_type": "execute_result",
          "data": {
            "text/html": [
              "<div>\n",
              "<style scoped>\n",
              "    .dataframe tbody tr th:only-of-type {\n",
              "        vertical-align: middle;\n",
              "    }\n",
              "\n",
              "    .dataframe tbody tr th {\n",
              "        vertical-align: top;\n",
              "    }\n",
              "\n",
              "    .dataframe thead th {\n",
              "        text-align: right;\n",
              "    }\n",
              "</style>\n",
              "<table border=\"1\" class=\"dataframe\">\n",
              "  <thead>\n",
              "    <tr style=\"text-align: right;\">\n",
              "      <th></th>\n",
              "      <th>Sno</th>\n",
              "      <th>Year Type</th>\n",
              "      <th>Year</th>\n",
              "      <th>Organization Group Code</th>\n",
              "      <th>Organization Group</th>\n",
              "      <th>Department Code</th>\n",
              "      <th>Department</th>\n",
              "      <th>Union Code</th>\n",
              "      <th>Union</th>\n",
              "      <th>Job Family Code</th>\n",
              "      <th>Job Family</th>\n",
              "      <th>Job Code</th>\n",
              "      <th>Job</th>\n",
              "      <th>Employee Identifier</th>\n",
              "      <th>Overtime</th>\n",
              "      <th>Other Salaries</th>\n",
              "      <th>Retirement</th>\n",
              "      <th>Health/Dental</th>\n",
              "      <th>Other Benefits</th>\n",
              "      <th>Total Benefits</th>\n",
              "      <th>Class</th>\n",
              "    </tr>\n",
              "  </thead>\n",
              "  <tbody>\n",
              "    <tr>\n",
              "      <th>0</th>\n",
              "      <td>9248</td>\n",
              "      <td>Fiscal</td>\n",
              "      <td>2017</td>\n",
              "      <td>3</td>\n",
              "      <td>Human Welfare &amp; Neighborhood Development</td>\n",
              "      <td>DSS</td>\n",
              "      <td>HSA Human Services Agency</td>\n",
              "      <td>535</td>\n",
              "      <td>SEIU - Human Services, Local 1021</td>\n",
              "      <td>2900</td>\n",
              "      <td>Human Services</td>\n",
              "      <td>2905</td>\n",
              "      <td>Senior Eligibility Worker</td>\n",
              "      <td>41351</td>\n",
              "      <td>0.00</td>\n",
              "      <td>240.00</td>\n",
              "      <td>11896.36</td>\n",
              "      <td>13765.55</td>\n",
              "      <td>5248.43</td>\n",
              "      <td>30910.34</td>\n",
              "      <td>2</td>\n",
              "    </tr>\n",
              "    <tr>\n",
              "      <th>1</th>\n",
              "      <td>44541</td>\n",
              "      <td>Fiscal</td>\n",
              "      <td>2014</td>\n",
              "      <td>6</td>\n",
              "      <td>General Administration &amp; Finance</td>\n",
              "      <td>ASR</td>\n",
              "      <td>ASR Assessor / Recorder</td>\n",
              "      <td>21</td>\n",
              "      <td>Prof &amp; Tech Engineers - Miscellaneous, Local 21</td>\n",
              "      <td>4200</td>\n",
              "      <td>Appraisal &amp; Taxation</td>\n",
              "      <td>4222</td>\n",
              "      <td>Sr Personal Property Auditor</td>\n",
              "      <td>41792</td>\n",
              "      <td>0.00</td>\n",
              "      <td>400.00</td>\n",
              "      <td>15429.94</td>\n",
              "      <td>9337.37</td>\n",
              "      <td>5599.01</td>\n",
              "      <td>30366.32</td>\n",
              "      <td>2</td>\n",
              "    </tr>\n",
              "    <tr>\n",
              "      <th>2</th>\n",
              "      <td>47031</td>\n",
              "      <td>Fiscal</td>\n",
              "      <td>2014</td>\n",
              "      <td>3</td>\n",
              "      <td>Human Welfare &amp; Neighborhood Development</td>\n",
              "      <td>DSS</td>\n",
              "      <td>HSA Human Services Agency</td>\n",
              "      <td>535</td>\n",
              "      <td>SEIU - Human Services, Local 1021</td>\n",
              "      <td>2900</td>\n",
              "      <td>Human Services</td>\n",
              "      <td>2910</td>\n",
              "      <td>Social Worker</td>\n",
              "      <td>9357</td>\n",
              "      <td>0.00</td>\n",
              "      <td>1080.00</td>\n",
              "      <td>9682.00</td>\n",
              "      <td>8848.03</td>\n",
              "      <td>3463.92</td>\n",
              "      <td>21993.95</td>\n",
              "      <td>2</td>\n",
              "    </tr>\n",
              "    <tr>\n",
              "      <th>3</th>\n",
              "      <td>139416</td>\n",
              "      <td>Fiscal</td>\n",
              "      <td>2014</td>\n",
              "      <td>1</td>\n",
              "      <td>Public Protection</td>\n",
              "      <td>FIR</td>\n",
              "      <td>FIR Fire Department</td>\n",
              "      <td>798</td>\n",
              "      <td>Firefighters - Miscellaneous, Local 798</td>\n",
              "      <td>H000</td>\n",
              "      <td>Fire Services</td>\n",
              "      <td>H002</td>\n",
              "      <td>Firefighter</td>\n",
              "      <td>28022</td>\n",
              "      <td>25730.46</td>\n",
              "      <td>18414.18</td>\n",
              "      <td>24222.26</td>\n",
              "      <td>13911.13</td>\n",
              "      <td>2416.58</td>\n",
              "      <td>40549.97</td>\n",
              "      <td>3</td>\n",
              "    </tr>\n",
              "    <tr>\n",
              "      <th>4</th>\n",
              "      <td>123780</td>\n",
              "      <td>Fiscal</td>\n",
              "      <td>2013</td>\n",
              "      <td>2</td>\n",
              "      <td>Public Works, Transportation &amp; Commerce</td>\n",
              "      <td>MTA</td>\n",
              "      <td>MTA Municipal Transprtn Agncy</td>\n",
              "      <td>790</td>\n",
              "      <td>SEIU - Miscellaneous, Local 1021</td>\n",
              "      <td>1600</td>\n",
              "      <td>Payroll, Billing &amp; Accounting</td>\n",
              "      <td>1224</td>\n",
              "      <td>Pr Payroll &amp; Personnel Clerk</td>\n",
              "      <td>51052</td>\n",
              "      <td>1138.28</td>\n",
              "      <td>2148.11</td>\n",
              "      <td>15437.62</td>\n",
              "      <td>12828.15</td>\n",
              "      <td>7246.54</td>\n",
              "      <td>35512.31</td>\n",
              "      <td>3</td>\n",
              "    </tr>\n",
              "  </tbody>\n",
              "</table>\n",
              "</div>"
            ],
            "text/plain": [
              "      Sno Year Type  Year  ...  Other Benefits Total Benefits Class\n",
              "0    9248    Fiscal  2017  ...         5248.43       30910.34     2\n",
              "1   44541    Fiscal  2014  ...         5599.01       30366.32     2\n",
              "2   47031    Fiscal  2014  ...         3463.92       21993.95     2\n",
              "3  139416    Fiscal  2014  ...         2416.58       40549.97     3\n",
              "4  123780    Fiscal  2013  ...         7246.54       35512.31     3\n",
              "\n",
              "[5 rows x 21 columns]"
            ]
          },
          "metadata": {
            "tags": []
          },
          "execution_count": 5
        },
        {
          "output_type": "execute_result",
          "data": {
            "text/html": [
              "<div>\n",
              "<style scoped>\n",
              "    .dataframe tbody tr th:only-of-type {\n",
              "        vertical-align: middle;\n",
              "    }\n",
              "\n",
              "    .dataframe tbody tr th {\n",
              "        vertical-align: top;\n",
              "    }\n",
              "\n",
              "    .dataframe thead th {\n",
              "        text-align: right;\n",
              "    }\n",
              "</style>\n",
              "<table border=\"1\" class=\"dataframe\">\n",
              "  <thead>\n",
              "    <tr style=\"text-align: right;\">\n",
              "      <th></th>\n",
              "      <th>Sno</th>\n",
              "      <th>Year Type</th>\n",
              "      <th>Year</th>\n",
              "      <th>Organization Group Code</th>\n",
              "      <th>Organization Group</th>\n",
              "      <th>Department Code</th>\n",
              "      <th>Department</th>\n",
              "      <th>Union Code</th>\n",
              "      <th>Union</th>\n",
              "      <th>Job Family Code</th>\n",
              "      <th>Job Family</th>\n",
              "      <th>Job Code</th>\n",
              "      <th>Job</th>\n",
              "      <th>Employee Identifier</th>\n",
              "      <th>Overtime</th>\n",
              "      <th>Other Salaries</th>\n",
              "      <th>Retirement</th>\n",
              "      <th>Health/Dental</th>\n",
              "      <th>Other Benefits</th>\n",
              "      <th>Total Benefits</th>\n",
              "    </tr>\n",
              "  </thead>\n",
              "  <tbody>\n",
              "    <tr>\n",
              "      <th>0</th>\n",
              "      <td>9240</td>\n",
              "      <td>Fiscal</td>\n",
              "      <td>2015</td>\n",
              "      <td>4</td>\n",
              "      <td>Community Health</td>\n",
              "      <td>DPH</td>\n",
              "      <td>DPH Public Health</td>\n",
              "      <td>790</td>\n",
              "      <td>SEIU - Miscellaneous, Local 1021</td>\n",
              "      <td>2400</td>\n",
              "      <td>Lab, Pharmacy &amp; Med Techs</td>\n",
              "      <td>2454</td>\n",
              "      <td>Clinical Pharmacist</td>\n",
              "      <td>23148</td>\n",
              "      <td>0.0</td>\n",
              "      <td>0.00</td>\n",
              "      <td>0.00</td>\n",
              "      <td>2203.32</td>\n",
              "      <td>2014.12</td>\n",
              "      <td>4217.44</td>\n",
              "    </tr>\n",
              "    <tr>\n",
              "      <th>1</th>\n",
              "      <td>209951</td>\n",
              "      <td>Fiscal</td>\n",
              "      <td>2016</td>\n",
              "      <td>4</td>\n",
              "      <td>Community Health</td>\n",
              "      <td>DPH</td>\n",
              "      <td>DPH Public Health</td>\n",
              "      <td>791</td>\n",
              "      <td>SEIU - Staff and Per Diem Nurses, Local 1021</td>\n",
              "      <td>2300</td>\n",
              "      <td>Nursing</td>\n",
              "      <td>2328</td>\n",
              "      <td>Nurse Practitioner</td>\n",
              "      <td>8789</td>\n",
              "      <td>0.0</td>\n",
              "      <td>1689.53</td>\n",
              "      <td>31464.76</td>\n",
              "      <td>11872.83</td>\n",
              "      <td>9947.92</td>\n",
              "      <td>53285.51</td>\n",
              "    </tr>\n",
              "    <tr>\n",
              "      <th>2</th>\n",
              "      <td>29879</td>\n",
              "      <td>Fiscal</td>\n",
              "      <td>2016</td>\n",
              "      <td>5</td>\n",
              "      <td>Culture &amp; Recreation</td>\n",
              "      <td>LIB</td>\n",
              "      <td>LIB Public Library</td>\n",
              "      <td>790</td>\n",
              "      <td>SEIU - Miscellaneous, Local 1021</td>\n",
              "      <td>3600</td>\n",
              "      <td>Library</td>\n",
              "      <td>3610</td>\n",
              "      <td>Library Assistant</td>\n",
              "      <td>48290</td>\n",
              "      <td>0.0</td>\n",
              "      <td>932.77</td>\n",
              "      <td>8858.22</td>\n",
              "      <td>9705.96</td>\n",
              "      <td>3764.93</td>\n",
              "      <td>22329.11</td>\n",
              "    </tr>\n",
              "    <tr>\n",
              "      <th>3</th>\n",
              "      <td>177914</td>\n",
              "      <td>Fiscal</td>\n",
              "      <td>2015</td>\n",
              "      <td>1</td>\n",
              "      <td>Public Protection</td>\n",
              "      <td>POL</td>\n",
              "      <td>POL Police</td>\n",
              "      <td>21</td>\n",
              "      <td>Prof &amp; Tech Engineers - Miscellaneous, Local 21</td>\n",
              "      <td>1800</td>\n",
              "      <td>Budget, Admn &amp; Stats Analysis</td>\n",
              "      <td>1824</td>\n",
              "      <td>Pr Administrative Analyst</td>\n",
              "      <td>43253</td>\n",
              "      <td>0.0</td>\n",
              "      <td>0.00</td>\n",
              "      <td>23955.61</td>\n",
              "      <td>11687.19</td>\n",
              "      <td>8880.83</td>\n",
              "      <td>44523.63</td>\n",
              "    </tr>\n",
              "    <tr>\n",
              "      <th>4</th>\n",
              "      <td>180406</td>\n",
              "      <td>Fiscal</td>\n",
              "      <td>2015</td>\n",
              "      <td>4</td>\n",
              "      <td>Community Health</td>\n",
              "      <td>DPH</td>\n",
              "      <td>DPH Public Health</td>\n",
              "      <td>790</td>\n",
              "      <td>SEIU - Miscellaneous, Local 1021</td>\n",
              "      <td>2900</td>\n",
              "      <td>Human Services</td>\n",
              "      <td>2930</td>\n",
              "      <td>Psychiatric Social Worker</td>\n",
              "      <td>13722</td>\n",
              "      <td>0.0</td>\n",
              "      <td>620.54</td>\n",
              "      <td>20644.61</td>\n",
              "      <td>12384.59</td>\n",
              "      <td>7491.65</td>\n",
              "      <td>40520.85</td>\n",
              "    </tr>\n",
              "  </tbody>\n",
              "</table>\n",
              "</div>"
            ],
            "text/plain": [
              "      Sno Year Type  Year  ...  Health/Dental Other Benefits Total Benefits\n",
              "0    9240    Fiscal  2015  ...        2203.32        2014.12        4217.44\n",
              "1  209951    Fiscal  2016  ...       11872.83        9947.92       53285.51\n",
              "2   29879    Fiscal  2016  ...        9705.96        3764.93       22329.11\n",
              "3  177914    Fiscal  2015  ...       11687.19        8880.83       44523.63\n",
              "4  180406    Fiscal  2015  ...       12384.59        7491.65       40520.85\n",
              "\n",
              "[5 rows x 20 columns]"
            ]
          },
          "metadata": {
            "tags": []
          },
          "execution_count": 5
        }
      ]
    },
    {
      "cell_type": "markdown",
      "metadata": {
        "id": "kO2XGJEH3jBw",
        "colab_type": "text"
      },
      "source": [
        "### Column information"
      ]
    },
    {
      "cell_type": "markdown",
      "metadata": {
        "id": "3gLcCgShEYSo",
        "colab_type": "text"
      },
      "source": [
        "Year - An accounting period of 12 months. The City and County of San Francisco operates on a fiscal year that begins on July 1 and ends on June 30 the following year. The Fiscal Year ending June 30, 2012 is represented as FY2011-2012. <br>\n",
        "\n",
        "\n",
        "Fiscal (July through June) or Calendar (January through December) <br>\n",
        "The year_type column is of the text datatype.\n"
      ]
    },
    {
      "cell_type": "code",
      "metadata": {
        "id": "BynKV4jcUyb_",
        "colab_type": "code",
        "colab": {
          "base_uri": "https://localhost:8080/",
          "height": 972
        },
        "outputId": "c858048b-1729-4ecb-88e1-9974bb25b350"
      },
      "source": [
        "df1.info()\n",
        "df2.info()"
      ],
      "execution_count": 6,
      "outputs": [
        {
          "output_type": "stream",
          "text": [
            "<class 'pandas.core.frame.DataFrame'>\n",
            "RangeIndex: 149087 entries, 0 to 149086\n",
            "Data columns (total 21 columns):\n",
            " #   Column                   Non-Null Count   Dtype  \n",
            "---  ------                   --------------   -----  \n",
            " 0   Sno                      149087 non-null  int64  \n",
            " 1   Year Type                149087 non-null  object \n",
            " 2   Year                     149087 non-null  int64  \n",
            " 3   Organization Group Code  149087 non-null  int64  \n",
            " 4   Organization Group       149087 non-null  object \n",
            " 5   Department Code          149087 non-null  object \n",
            " 6   Department               149087 non-null  object \n",
            " 7   Union Code               149087 non-null  int64  \n",
            " 8   Union                    149087 non-null  object \n",
            " 9   Job Family Code          149087 non-null  object \n",
            " 10  Job Family               149087 non-null  object \n",
            " 11  Job Code                 149087 non-null  object \n",
            " 12  Job                      149087 non-null  object \n",
            " 13  Employee Identifier      149087 non-null  int64  \n",
            " 14  Overtime                 149087 non-null  float64\n",
            " 15  Other Salaries           149087 non-null  float64\n",
            " 16  Retirement               149087 non-null  float64\n",
            " 17  Health/Dental            149087 non-null  float64\n",
            " 18  Other Benefits           149087 non-null  float64\n",
            " 19  Total Benefits           149087 non-null  float64\n",
            " 20  Class                    149087 non-null  int64  \n",
            "dtypes: float64(6), int64(6), object(9)\n",
            "memory usage: 23.9+ MB\n",
            "<class 'pandas.core.frame.DataFrame'>\n",
            "RangeIndex: 63895 entries, 0 to 63894\n",
            "Data columns (total 20 columns):\n",
            " #   Column                   Non-Null Count  Dtype  \n",
            "---  ------                   --------------  -----  \n",
            " 0   Sno                      63895 non-null  int64  \n",
            " 1   Year Type                63895 non-null  object \n",
            " 2   Year                     63895 non-null  int64  \n",
            " 3   Organization Group Code  63895 non-null  int64  \n",
            " 4   Organization Group       63895 non-null  object \n",
            " 5   Department Code          63895 non-null  object \n",
            " 6   Department               63895 non-null  object \n",
            " 7   Union Code               63895 non-null  int64  \n",
            " 8   Union                    63895 non-null  object \n",
            " 9   Job Family Code          63895 non-null  object \n",
            " 10  Job Family               63895 non-null  object \n",
            " 11  Job Code                 63895 non-null  object \n",
            " 12  Job                      63895 non-null  object \n",
            " 13  Employee Identifier      63895 non-null  int64  \n",
            " 14  Overtime                 63895 non-null  float64\n",
            " 15  Other Salaries           63895 non-null  float64\n",
            " 16  Retirement               63895 non-null  float64\n",
            " 17  Health/Dental            63895 non-null  float64\n",
            " 18  Other Benefits           63895 non-null  float64\n",
            " 19  Total Benefits           63895 non-null  float64\n",
            "dtypes: float64(6), int64(5), object(9)\n",
            "memory usage: 9.7+ MB\n"
          ],
          "name": "stdout"
        }
      ]
    },
    {
      "cell_type": "markdown",
      "metadata": {
        "id": "9jUbl2mw3zeF",
        "colab_type": "text"
      },
      "source": [
        "Removing spaces from column names in order to make use of dot notation"
      ]
    },
    {
      "cell_type": "code",
      "metadata": {
        "id": "-7S9QiULU72n",
        "colab_type": "code",
        "colab": {}
      },
      "source": [
        "df1.columns = [\"\".join (c if c.isalnum() else \"_\" for c in str(x)) for x in df1.columns]\n",
        "df2.columns = [\"\".join (c if c.isalnum() else \"_\" for c in str(x)) for x in df2.columns]"
      ],
      "execution_count": 7,
      "outputs": []
    },
    {
      "cell_type": "markdown",
      "metadata": {
        "id": "xej0DGZ04Dbz",
        "colab_type": "text"
      },
      "source": [
        "Checking for any duplicates"
      ]
    },
    {
      "cell_type": "code",
      "metadata": {
        "id": "egtWF4UVVddX",
        "colab_type": "code",
        "colab": {
          "base_uri": "https://localhost:8080/",
          "height": 34
        },
        "outputId": "d3c417c3-7c53-4f20-e960-474154674f6b"
      },
      "source": [
        "df1.duplicated().sum(), df2.Sno.duplicated().sum()\n",
        "df1.duplicated().sum(), df2.Sno.duplicated().sum()"
      ],
      "execution_count": 8,
      "outputs": [
        {
          "output_type": "execute_result",
          "data": {
            "text/plain": [
              "(0, 0)"
            ]
          },
          "metadata": {
            "tags": []
          },
          "execution_count": 8
        },
        {
          "output_type": "execute_result",
          "data": {
            "text/plain": [
              "(0, 0)"
            ]
          },
          "metadata": {
            "tags": []
          },
          "execution_count": 8
        }
      ]
    },
    {
      "cell_type": "markdown",
      "metadata": {
        "id": "nDf2Z4FK4VU2",
        "colab_type": "text"
      },
      "source": [
        "This dataset has a single Year_type value which means there is no variance and hence can be dropped later"
      ]
    },
    {
      "cell_type": "code",
      "metadata": {
        "id": "aUP2cSjCzqaU",
        "colab_type": "code",
        "colab": {
          "base_uri": "https://localhost:8080/",
          "height": 69
        },
        "outputId": "b60bfe42-025a-4fa3-c13c-2fbbcb9c5448"
      },
      "source": [
        "df1.Year_Type.value_counts(), df2.Year_Type.value_counts()"
      ],
      "execution_count": 9,
      "outputs": [
        {
          "output_type": "execute_result",
          "data": {
            "text/plain": [
              "(Fiscal    149087\n",
              " Name: Year_Type, dtype: int64, Fiscal    63895\n",
              " Name: Year_Type, dtype: int64)"
            ]
          },
          "metadata": {
            "tags": []
          },
          "execution_count": 9
        }
      ]
    },
    {
      "cell_type": "markdown",
      "metadata": {
        "id": "NcVS8wMc4a5J",
        "colab_type": "text"
      },
      "source": [
        "Coverting object variables to categorical type. These will also be the ones that will be potentially label-encoded or one-hot encoded"
      ]
    },
    {
      "cell_type": "code",
      "metadata": {
        "id": "kHRGaft0W7-B",
        "colab_type": "code",
        "colab": {}
      },
      "source": [
        "#df1.Year = df1.Year.astype('int64')\n",
        "df1.Organization_Group_Code = df1.Organization_Group_Code.astype('category')\n",
        "df1.Department_Code = df1.Department_Code.astype('category')\n",
        "df1.Union_Code = df1.Union_Code.astype('category')\n",
        "df1.Job_Family_Code = df1.Job_Family_Code.astype('category')\n",
        "df1.Job_Code = df1.Job_Code.astype('category')\n",
        "df1.Class = df1.Class.astype('category')\n",
        "\n",
        "#df2.Year = df2.Year.astype('int64')\n",
        "df2.Organization_Group_Code = df2.Organization_Group_Code.astype('category')\n",
        "df2.Department_Code = df2.Department_Code.astype('category')\n",
        "df2.Union_Code = df2.Union_Code.astype('category')\n",
        "df2.Job_Family_Code = df2.Job_Family_Code.astype('category')\n",
        "df2.Job_Code = df2.Job_Code.astype('category')\n",
        "#df2.Class = df2.Class.astype('category')"
      ],
      "execution_count": 10,
      "outputs": []
    },
    {
      "cell_type": "code",
      "metadata": {
        "id": "8bsK-IGQ5Itq",
        "colab_type": "code",
        "colab": {
          "base_uri": "https://localhost:8080/",
          "height": 972
        },
        "outputId": "6c0ac1dd-d2d8-4ca2-e3d9-a8ecf3e00ba0"
      },
      "source": [
        "df1.info()\n",
        "df2.info()"
      ],
      "execution_count": 11,
      "outputs": [
        {
          "output_type": "stream",
          "text": [
            "<class 'pandas.core.frame.DataFrame'>\n",
            "RangeIndex: 149087 entries, 0 to 149086\n",
            "Data columns (total 21 columns):\n",
            " #   Column                   Non-Null Count   Dtype   \n",
            "---  ------                   --------------   -----   \n",
            " 0   Sno                      149087 non-null  int64   \n",
            " 1   Year_Type                149087 non-null  object  \n",
            " 2   Year                     149087 non-null  int64   \n",
            " 3   Organization_Group_Code  149087 non-null  category\n",
            " 4   Organization_Group       149087 non-null  object  \n",
            " 5   Department_Code          149087 non-null  category\n",
            " 6   Department               149087 non-null  object  \n",
            " 7   Union_Code               149087 non-null  category\n",
            " 8   Union                    149087 non-null  object  \n",
            " 9   Job_Family_Code          149087 non-null  category\n",
            " 10  Job_Family               149087 non-null  object  \n",
            " 11  Job_Code                 149087 non-null  category\n",
            " 12  Job                      149087 non-null  object  \n",
            " 13  Employee_Identifier      149087 non-null  int64   \n",
            " 14  Overtime                 149087 non-null  float64 \n",
            " 15  Other_Salaries           149087 non-null  float64 \n",
            " 16  Retirement               149087 non-null  float64 \n",
            " 17  Health_Dental            149087 non-null  float64 \n",
            " 18  Other_Benefits           149087 non-null  float64 \n",
            " 19  Total_Benefits           149087 non-null  float64 \n",
            " 20  Class                    149087 non-null  category\n",
            "dtypes: category(6), float64(6), int64(3), object(6)\n",
            "memory usage: 18.1+ MB\n",
            "<class 'pandas.core.frame.DataFrame'>\n",
            "RangeIndex: 63895 entries, 0 to 63894\n",
            "Data columns (total 20 columns):\n",
            " #   Column                   Non-Null Count  Dtype   \n",
            "---  ------                   --------------  -----   \n",
            " 0   Sno                      63895 non-null  int64   \n",
            " 1   Year_Type                63895 non-null  object  \n",
            " 2   Year                     63895 non-null  int64   \n",
            " 3   Organization_Group_Code  63895 non-null  category\n",
            " 4   Organization_Group       63895 non-null  object  \n",
            " 5   Department_Code          63895 non-null  category\n",
            " 6   Department               63895 non-null  object  \n",
            " 7   Union_Code               63895 non-null  category\n",
            " 8   Union                    63895 non-null  object  \n",
            " 9   Job_Family_Code          63895 non-null  category\n",
            " 10  Job_Family               63895 non-null  object  \n",
            " 11  Job_Code                 63895 non-null  category\n",
            " 12  Job                      63895 non-null  object  \n",
            " 13  Employee_Identifier      63895 non-null  int64   \n",
            " 14  Overtime                 63895 non-null  float64 \n",
            " 15  Other_Salaries           63895 non-null  float64 \n",
            " 16  Retirement               63895 non-null  float64 \n",
            " 17  Health_Dental            63895 non-null  float64 \n",
            " 18  Other_Benefits           63895 non-null  float64 \n",
            " 19  Total_Benefits           63895 non-null  float64 \n",
            "dtypes: category(5), float64(6), int64(3), object(6)\n",
            "memory usage: 7.7+ MB\n"
          ],
          "name": "stdout"
        }
      ]
    },
    {
      "cell_type": "markdown",
      "metadata": {
        "id": "geV_p8f9BQbf",
        "colab_type": "text"
      },
      "source": [
        "From data dictionary and initial analysis it is pretty clear that <Group> and <Group Code> are columns that are relaying the same inforamtion and hence one from eact set can be removed.    \n",
        "These include Organization Group, Department, Union, Job Family and Job"
      ]
    },
    {
      "cell_type": "code",
      "metadata": {
        "id": "QlUSU1NRzVQ4",
        "colab_type": "code",
        "colab": {
          "base_uri": "https://localhost:8080/",
          "height": 86
        },
        "outputId": "151c122e-9856-45f3-d3f6-446627ad4ed3"
      },
      "source": [
        "df1.Class.value_counts()"
      ],
      "execution_count": 12,
      "outputs": [
        {
          "output_type": "execute_result",
          "data": {
            "text/plain": [
              "3    50811\n",
              "2    49604\n",
              "1    48672\n",
              "Name: Class, dtype: int64"
            ]
          },
          "metadata": {
            "tags": []
          },
          "execution_count": 12
        }
      ]
    },
    {
      "cell_type": "markdown",
      "metadata": {
        "id": "aFbZ0qOAz-To",
        "colab_type": "text"
      },
      "source": [
        "The classes look closely balanced. "
      ]
    },
    {
      "cell_type": "code",
      "metadata": {
        "id": "VRt8gbbKz4hD",
        "colab_type": "code",
        "colab": {
          "base_uri": "https://localhost:8080/",
          "height": 296
        },
        "outputId": "8ea71c51-f866-4ab4-b7b5-2247b1f06eb6"
      },
      "source": [
        "sns.countplot(df1.Class)"
      ],
      "execution_count": 13,
      "outputs": [
        {
          "output_type": "execute_result",
          "data": {
            "text/plain": [
              "<matplotlib.axes._subplots.AxesSubplot at 0x7f7056fa5cf8>"
            ]
          },
          "metadata": {
            "tags": []
          },
          "execution_count": 13
        },
        {
          "output_type": "display_data",
          "data": {
            "image/png": "[encoded data removed]",
            "text/plain": [
              "<Figure size 432x288 with 1 Axes>"
            ]
          },
          "metadata": {
            "tags": [],
            "needs_background": "light"
          }
        }
      ]
    },
    {
      "cell_type": "code",
      "metadata": {
        "id": "Yn9fpO0C3ReY",
        "colab_type": "code",
        "colab": {
          "base_uri": "https://localhost:8080/",
          "height": 575
        },
        "outputId": "ae1c235b-d2c6-4977-b056-7b97888572b9"
      },
      "source": [
        "df1.Organization_Group_Code.value_counts()\n",
        "print('\\n', df2.Organization_Group_Code.value_counts())\n",
        "sns.countplot(df1.Organization_Group_Code)"
      ],
      "execution_count": 14,
      "outputs": [
        {
          "output_type": "execute_result",
          "data": {
            "text/plain": [
              "2    47146\n",
              "4    32193\n",
              "1    28588\n",
              "3    13775\n",
              "5    13644\n",
              "6    13555\n",
              "7      186\n",
              "Name: Organization_Group_Code, dtype: int64"
            ]
          },
          "metadata": {
            "tags": []
          },
          "execution_count": 14
        },
        {
          "output_type": "stream",
          "text": [
            "\n",
            " 2    20089\n",
            "4    13915\n",
            "1    12166\n",
            "5     5946\n",
            "6     5880\n",
            "3     5819\n",
            "7       80\n",
            "Name: Organization_Group_Code, dtype: int64\n"
          ],
          "name": "stdout"
        },
        {
          "output_type": "execute_result",
          "data": {
            "text/plain": [
              "<matplotlib.axes._subplots.AxesSubplot at 0x7f7056f7b2e8>"
            ]
          },
          "metadata": {
            "tags": []
          },
          "execution_count": 14
        },
        {
          "output_type": "display_data",
          "data": {
            "image/png": "[encoded data removed]",
            "text/plain": [
              "<Figure size 432x288 with 1 Axes>"
            ]
          },
          "metadata": {
            "tags": [],
            "needs_background": "light"
          }
        }
      ]
    },
    {
      "cell_type": "code",
      "metadata": {
        "id": "jp9avcx33obn",
        "colab_type": "code",
        "colab": {
          "base_uri": "https://localhost:8080/",
          "height": 714
        },
        "outputId": "73dba489-3cb2-46b0-d67f-1c5074b57b93"
      },
      "source": [
        "df1.Job_Code.value_counts()\n",
        "print('\\n', df2.Job_Code.value_counts())\n",
        "sns.countplot(df1.Job_Code)"
      ],
      "execution_count": 15,
      "outputs": [
        {
          "output_type": "execute_result",
          "data": {
            "text/plain": [
              "9163    9092\n",
              "P103    5321\n",
              "2320    4653\n",
              "Q004    2936\n",
              "H002    2931\n",
              "        ... \n",
              "7233       1\n",
              "7240       1\n",
              "351C       1\n",
              "8186       1\n",
              "8213       1\n",
              "Name: Job_Code, Length: 1141, dtype: int64"
            ]
          },
          "metadata": {
            "tags": []
          },
          "execution_count": 15
        },
        {
          "output_type": "stream",
          "text": [
            "\n",
            " 9163    3997\n",
            "P103    2342\n",
            "2320    1968\n",
            "H002    1318\n",
            "9910    1303\n",
            "        ... \n",
            "155C       1\n",
            "4140       1\n",
            "8568       1\n",
            "2565       1\n",
            "9358       1\n",
            "Name: Job_Code, Length: 1068, dtype: int64\n"
          ],
          "name": "stdout"
        },
        {
          "output_type": "execute_result",
          "data": {
            "text/plain": [
              "<matplotlib.axes._subplots.AxesSubplot at 0x7f70566afbe0>"
            ]
          },
          "metadata": {
            "tags": []
          },
          "execution_count": 15
        },
        {
          "output_type": "display_data",
          "data": {
            "image/png": "[encoded data removed]",
            "text/plain": [
              "<Figure size 432x288 with 1 Axes>"
            ]
          },
          "metadata": {
            "tags": [],
            "needs_background": "light"
          }
        }
      ]
    },
    {
      "cell_type": "code",
      "metadata": {
        "id": "E_HlS8234Kpu",
        "colab_type": "code",
        "colab": {
          "base_uri": "https://localhost:8080/",
          "height": 714
        },
        "outputId": "568d3f3a-29e5-4046-80d5-654b345fa180"
      },
      "source": [
        "df1.Union_Code.value_counts()\n",
        "print('\\n', df2.Union_Code.value_counts())\n",
        "sns.countplot(df1.Union_Code)"
      ],
      "execution_count": 16,
      "outputs": [
        {
          "output_type": "execute_result",
          "data": {
            "text/plain": [
              "790    42544\n",
              "21     19294\n",
              "791    11187\n",
              "911     9814\n",
              "253     9092\n",
              "       ...  \n",
              "969        8\n",
              "220        7\n",
              "353        5\n",
              "302        3\n",
              "604        2\n",
              "Name: Union_Code, Length: 69, dtype: int64"
            ]
          },
          "metadata": {
            "tags": []
          },
          "execution_count": 16
        },
        {
          "output_type": "stream",
          "text": [
            "\n",
            " 790    18267\n",
            "21      8079\n",
            "791     4853\n",
            "911     4089\n",
            "253     3997\n",
            "       ...  \n",
            "353        4\n",
            "220        4\n",
            "604        3\n",
            "302        2\n",
            "990        2\n",
            "Name: Union_Code, Length: 68, dtype: int64\n"
          ],
          "name": "stdout"
        },
        {
          "output_type": "execute_result",
          "data": {
            "text/plain": [
              "<matplotlib.axes._subplots.AxesSubplot at 0x7f7056295908>"
            ]
          },
          "metadata": {
            "tags": []
          },
          "execution_count": 16
        },
        {
          "output_type": "display_data",
          "data": {
            "image/png": "[encoded data removed]",
            "text/plain": [
              "<Figure size 432x288 with 1 Axes>"
            ]
          },
          "metadata": {
            "tags": [],
            "needs_background": "light"
          }
        }
      ]
    },
    {
      "cell_type": "code",
      "metadata": {
        "id": "bbz83SUg4VY-",
        "colab_type": "code",
        "colab": {
          "base_uri": "https://localhost:8080/",
          "height": 332
        },
        "outputId": "ed161934-17a5-4482-902d-f07d5b2f64e7"
      },
      "source": [
        "df1.Department_Code.value_counts().count()\n",
        "print('\\n', df2.Department_Code.value_counts().count())\n",
        "sns.countplot(df1.Department_Code)"
      ],
      "execution_count": 17,
      "outputs": [
        {
          "output_type": "execute_result",
          "data": {
            "text/plain": [
              "56"
            ]
          },
          "metadata": {
            "tags": []
          },
          "execution_count": 17
        },
        {
          "output_type": "stream",
          "text": [
            "\n",
            " 56\n"
          ],
          "name": "stdout"
        },
        {
          "output_type": "execute_result",
          "data": {
            "text/plain": [
              "<matplotlib.axes._subplots.AxesSubplot at 0x7f7054ebc7b8>"
            ]
          },
          "metadata": {
            "tags": []
          },
          "execution_count": 17
        },
        {
          "output_type": "display_data",
          "data": {
            "image/png": "[encoded data removed]",
            "text/plain": [
              "<Figure size 432x288 with 1 Axes>"
            ]
          },
          "metadata": {
            "tags": [],
            "needs_background": "light"
          }
        }
      ]
    },
    {
      "cell_type": "code",
      "metadata": {
        "id": "ERaUQfoD4AA3",
        "colab_type": "code",
        "colab": {
          "base_uri": "https://localhost:8080/",
          "height": 301
        },
        "outputId": "029a61e5-f3db-43e5-a4f1-3020b7b08909"
      },
      "source": [
        "sns.countplot(df1.Job_Family_Code)"
      ],
      "execution_count": 18,
      "outputs": [
        {
          "output_type": "execute_result",
          "data": {
            "text/plain": [
              "<matplotlib.axes._subplots.AxesSubplot at 0x7f7056fda358>"
            ]
          },
          "metadata": {
            "tags": []
          },
          "execution_count": 18
        },
        {
          "output_type": "display_data",
          "data": {
            "image/png": "[encoded data removed]",
            "text/plain": [
              "<Figure size 432x288 with 1 Axes>"
            ]
          },
          "metadata": {
            "tags": [],
            "needs_background": "light"
          }
        }
      ]
    },
    {
      "cell_type": "code",
      "metadata": {
        "id": "Rlc92b0mPVUv",
        "colab_type": "code",
        "colab": {}
      },
      "source": [
        "#s1 = df1.Job_Family_Code.value_counts(ascending=True)\n",
        "#s2 = df2.Job_Family_Code.value_counts(ascending=True)\n",
        "\n",
        "#s1.to_csv('s1.csv')\n",
        "#s2.to_csv('s2.csv')"
      ],
      "execution_count": 19,
      "outputs": []
    },
    {
      "cell_type": "code",
      "metadata": {
        "id": "JSi1PT__-TRT",
        "colab_type": "code",
        "colab": {
          "base_uri": "https://localhost:8080/",
          "height": 332
        },
        "outputId": "1ae06669-c039-4c01-c477-399e81b03ad6"
      },
      "source": [
        "df1.describe().T"
      ],
      "execution_count": null,
      "outputs": [
        {
          "output_type": "execute_result",
          "data": {
            "text/html": [
              "<div>\n",
              "<style scoped>\n",
              "    .dataframe tbody tr th:only-of-type {\n",
              "        vertical-align: middle;\n",
              "    }\n",
              "\n",
              "    .dataframe tbody tr th {\n",
              "        vertical-align: top;\n",
              "    }\n",
              "\n",
              "    .dataframe thead th {\n",
              "        text-align: right;\n",
              "    }\n",
              "</style>\n",
              "<table border=\"1\" class=\"dataframe\">\n",
              "  <thead>\n",
              "    <tr style=\"text-align: right;\">\n",
              "      <th></th>\n",
              "      <th>count</th>\n",
              "      <th>mean</th>\n",
              "      <th>std</th>\n",
              "      <th>min</th>\n",
              "      <th>25%</th>\n",
              "      <th>50%</th>\n",
              "      <th>75%</th>\n",
              "      <th>max</th>\n",
              "    </tr>\n",
              "  </thead>\n",
              "  <tbody>\n",
              "    <tr>\n",
              "      <th>Sno</th>\n",
              "      <td>149087.0</td>\n",
              "      <td>106616.273807</td>\n",
              "      <td>61550.046783</td>\n",
              "      <td>0.00</td>\n",
              "      <td>53204.500</td>\n",
              "      <td>106623.00</td>\n",
              "      <td>159919.500</td>\n",
              "      <td>213201.00</td>\n",
              "    </tr>\n",
              "    <tr>\n",
              "      <th>Year</th>\n",
              "      <td>149087.0</td>\n",
              "      <td>2015.072018</td>\n",
              "      <td>1.410452</td>\n",
              "      <td>2013.00</td>\n",
              "      <td>2014.000</td>\n",
              "      <td>2015.00</td>\n",
              "      <td>2016.000</td>\n",
              "      <td>2017.00</td>\n",
              "    </tr>\n",
              "    <tr>\n",
              "      <th>Employee_Identifier</th>\n",
              "      <td>149087.0</td>\n",
              "      <td>28508.984465</td>\n",
              "      <td>16460.652590</td>\n",
              "      <td>1.00</td>\n",
              "      <td>14244.000</td>\n",
              "      <td>28520.00</td>\n",
              "      <td>42804.500</td>\n",
              "      <td>56987.00</td>\n",
              "    </tr>\n",
              "    <tr>\n",
              "      <th>Overtime</th>\n",
              "      <td>149087.0</td>\n",
              "      <td>4511.488439</td>\n",
              "      <td>11361.792998</td>\n",
              "      <td>-12308.66</td>\n",
              "      <td>0.000</td>\n",
              "      <td>0.00</td>\n",
              "      <td>2872.240</td>\n",
              "      <td>227313.62</td>\n",
              "    </tr>\n",
              "    <tr>\n",
              "      <th>Other_Salaries</th>\n",
              "      <td>149087.0</td>\n",
              "      <td>3754.638895</td>\n",
              "      <td>7516.445237</td>\n",
              "      <td>-19131.10</td>\n",
              "      <td>0.000</td>\n",
              "      <td>698.35</td>\n",
              "      <td>4558.190</td>\n",
              "      <td>336726.34</td>\n",
              "    </tr>\n",
              "    <tr>\n",
              "      <th>Retirement</th>\n",
              "      <td>149087.0</td>\n",
              "      <td>12632.395320</td>\n",
              "      <td>9657.913757</td>\n",
              "      <td>-28723.19</td>\n",
              "      <td>3228.975</td>\n",
              "      <td>12839.71</td>\n",
              "      <td>19137.745</td>\n",
              "      <td>101306.01</td>\n",
              "    </tr>\n",
              "    <tr>\n",
              "      <th>Health_Dental</th>\n",
              "      <td>149087.0</td>\n",
              "      <td>9058.531893</td>\n",
              "      <td>5024.486147</td>\n",
              "      <td>-2946.53</td>\n",
              "      <td>4274.930</td>\n",
              "      <td>12137.40</td>\n",
              "      <td>12828.180</td>\n",
              "      <td>22052.15</td>\n",
              "    </tr>\n",
              "    <tr>\n",
              "      <th>Other_Benefits</th>\n",
              "      <td>149087.0</td>\n",
              "      <td>4720.552627</td>\n",
              "      <td>3933.772085</td>\n",
              "      <td>-9857.74</td>\n",
              "      <td>1578.475</td>\n",
              "      <td>4395.51</td>\n",
              "      <td>6943.835</td>\n",
              "      <td>36815.39</td>\n",
              "    </tr>\n",
              "    <tr>\n",
              "      <th>Total_Benefits</th>\n",
              "      <td>149087.0</td>\n",
              "      <td>26411.479840</td>\n",
              "      <td>16893.424789</td>\n",
              "      <td>-19814.44</td>\n",
              "      <td>9313.965</td>\n",
              "      <td>30311.56</td>\n",
              "      <td>38510.300</td>\n",
              "      <td>138503.52</td>\n",
              "    </tr>\n",
              "  </tbody>\n",
              "</table>\n",
              "</div>"
            ],
            "text/plain": [
              "                        count           mean  ...         75%        max\n",
              "Sno                  149087.0  106616.273807  ...  159919.500  213201.00\n",
              "Year                 149087.0    2015.072018  ...    2016.000    2017.00\n",
              "Employee_Identifier  149087.0   28508.984465  ...   42804.500   56987.00\n",
              "Overtime             149087.0    4511.488439  ...    2872.240  227313.62\n",
              "Other_Salaries       149087.0    3754.638895  ...    4558.190  336726.34\n",
              "Retirement           149087.0   12632.395320  ...   19137.745  101306.01\n",
              "Health_Dental        149087.0    9058.531893  ...   12828.180   22052.15\n",
              "Other_Benefits       149087.0    4720.552627  ...    6943.835   36815.39\n",
              "Total_Benefits       149087.0   26411.479840  ...   38510.300  138503.52\n",
              "\n",
              "[9 rows x 8 columns]"
            ]
          },
          "metadata": {
            "tags": []
          },
          "execution_count": 37
        }
      ]
    },
    {
      "cell_type": "markdown",
      "metadata": {
        "id": "2KkOgpLYCDPw",
        "colab_type": "text"
      },
      "source": [
        "Continuous variables have some negative values. Outliers and negative values have not been treated in the first two iterations. "
      ]
    },
    {
      "cell_type": "code",
      "metadata": {
        "id": "X86rDOK0NBzv",
        "colab_type": "code",
        "colab": {
          "base_uri": "https://localhost:8080/",
          "height": 338
        },
        "outputId": "0b54614e-03c2-4804-810c-498a878ee1ab"
      },
      "source": [
        "df = df1.drop(columns = ['Sno','Year','Employee_Identifier'], axis=1)\n",
        "df.boxplot(figsize=(20,5))"
      ],
      "execution_count": 24,
      "outputs": [
        {
          "output_type": "execute_result",
          "data": {
            "text/plain": [
              "<matplotlib.axes._subplots.AxesSubplot at 0x7f704c773a58>"
            ]
          },
          "metadata": {
            "tags": []
          },
          "execution_count": 24
        },
        {
          "output_type": "display_data",
          "data": {
            "image/png": "[encoded data removed]",
            "text/plain": [
              "<Figure size 1440x360 with 1 Axes>"
            ]
          },
          "metadata": {
            "tags": [],
            "needs_background": "light"
          }
        }
      ]
    },
    {
      "cell_type": "code",
      "metadata": {
        "id": "cDVPKBSPOiIG",
        "colab_type": "code",
        "colab": {
          "base_uri": "https://localhost:8080/",
          "height": 930
        },
        "outputId": "00036487-284c-4e97-f43d-bf8f3defd7e5"
      },
      "source": [
        "# Negative values of Retirement\n",
        "\n",
        "df[df['Retirement'] < 0]\n",
        "df[df['Retirement'] <0].shape[0]/df.shape[0]  # % of negative values"
      ],
      "execution_count": 29,
      "outputs": [
        {
          "output_type": "execute_result",
          "data": {
            "text/html": [
              "<div>\n",
              "<style scoped>\n",
              "    .dataframe tbody tr th:only-of-type {\n",
              "        vertical-align: middle;\n",
              "    }\n",
              "\n",
              "    .dataframe tbody tr th {\n",
              "        vertical-align: top;\n",
              "    }\n",
              "\n",
              "    .dataframe thead th {\n",
              "        text-align: right;\n",
              "    }\n",
              "</style>\n",
              "<table border=\"1\" class=\"dataframe\">\n",
              "  <thead>\n",
              "    <tr style=\"text-align: right;\">\n",
              "      <th></th>\n",
              "      <th>Year_Type</th>\n",
              "      <th>Organization_Group_Code</th>\n",
              "      <th>Organization_Group</th>\n",
              "      <th>Department_Code</th>\n",
              "      <th>Department</th>\n",
              "      <th>Union_Code</th>\n",
              "      <th>Union</th>\n",
              "      <th>Job_Family_Code</th>\n",
              "      <th>Job_Family</th>\n",
              "      <th>Job_Code</th>\n",
              "      <th>Job</th>\n",
              "      <th>Overtime</th>\n",
              "      <th>Other_Salaries</th>\n",
              "      <th>Retirement</th>\n",
              "      <th>Health_Dental</th>\n",
              "      <th>Other_Benefits</th>\n",
              "      <th>Total_Benefits</th>\n",
              "      <th>Class</th>\n",
              "    </tr>\n",
              "  </thead>\n",
              "  <tbody>\n",
              "    <tr>\n",
              "      <th>96</th>\n",
              "      <td>Fiscal</td>\n",
              "      <td>1</td>\n",
              "      <td>Public Protection</td>\n",
              "      <td>POL</td>\n",
              "      <td>POL Police</td>\n",
              "      <td>21</td>\n",
              "      <td>Prof &amp; Tech Engineers - Miscellaneous, Local 21</td>\n",
              "      <td>1000</td>\n",
              "      <td>Information Systems</td>\n",
              "      <td>1054</td>\n",
              "      <td>IS Business Analyst-Principal</td>\n",
              "      <td>0.0</td>\n",
              "      <td>0.00</td>\n",
              "      <td>-375.45</td>\n",
              "      <td>554.26</td>\n",
              "      <td>3.36</td>\n",
              "      <td>182.17</td>\n",
              "      <td>1</td>\n",
              "    </tr>\n",
              "    <tr>\n",
              "      <th>1499</th>\n",
              "      <td>Fiscal</td>\n",
              "      <td>4</td>\n",
              "      <td>Community Health</td>\n",
              "      <td>DPH</td>\n",
              "      <td>DPH Public Health</td>\n",
              "      <td>791</td>\n",
              "      <td>SEIU - Staff and Per Diem Nurses, Local 1021</td>\n",
              "      <td>2300</td>\n",
              "      <td>Nursing</td>\n",
              "      <td>P103</td>\n",
              "      <td>Special Nurse</td>\n",
              "      <td>0.0</td>\n",
              "      <td>164.70</td>\n",
              "      <td>-0.01</td>\n",
              "      <td>444.05</td>\n",
              "      <td>28.34</td>\n",
              "      <td>472.38</td>\n",
              "      <td>1</td>\n",
              "    </tr>\n",
              "    <tr>\n",
              "      <th>1773</th>\n",
              "      <td>Fiscal</td>\n",
              "      <td>4</td>\n",
              "      <td>Community Health</td>\n",
              "      <td>DPH</td>\n",
              "      <td>DPH Public Health</td>\n",
              "      <td>791</td>\n",
              "      <td>SEIU - Staff and Per Diem Nurses, Local 1021</td>\n",
              "      <td>2300</td>\n",
              "      <td>Nursing</td>\n",
              "      <td>P103</td>\n",
              "      <td>Special Nurse</td>\n",
              "      <td>0.0</td>\n",
              "      <td>0.00</td>\n",
              "      <td>-0.09</td>\n",
              "      <td>0.00</td>\n",
              "      <td>2532.49</td>\n",
              "      <td>2532.40</td>\n",
              "      <td>1</td>\n",
              "    </tr>\n",
              "    <tr>\n",
              "      <th>1813</th>\n",
              "      <td>Fiscal</td>\n",
              "      <td>4</td>\n",
              "      <td>Community Health</td>\n",
              "      <td>DPH</td>\n",
              "      <td>DPH Public Health</td>\n",
              "      <td>790</td>\n",
              "      <td>SEIU - Miscellaneous, Local 1021</td>\n",
              "      <td>1400</td>\n",
              "      <td>Clerical, Secretarial &amp; Steno</td>\n",
              "      <td>1404</td>\n",
              "      <td>Clerk</td>\n",
              "      <td>0.0</td>\n",
              "      <td>2326.57</td>\n",
              "      <td>-40.41</td>\n",
              "      <td>0.00</td>\n",
              "      <td>162.57</td>\n",
              "      <td>122.16</td>\n",
              "      <td>1</td>\n",
              "    </tr>\n",
              "    <tr>\n",
              "      <th>2448</th>\n",
              "      <td>Fiscal</td>\n",
              "      <td>1</td>\n",
              "      <td>Public Protection</td>\n",
              "      <td>POL</td>\n",
              "      <td>POL Police</td>\n",
              "      <td>911</td>\n",
              "      <td>Police Officers' Association</td>\n",
              "      <td>Q000</td>\n",
              "      <td>Police Services</td>\n",
              "      <td>Q004</td>\n",
              "      <td>Police Officer 3</td>\n",
              "      <td>0.0</td>\n",
              "      <td>0.00</td>\n",
              "      <td>-9.11</td>\n",
              "      <td>0.00</td>\n",
              "      <td>0.00</td>\n",
              "      <td>-9.11</td>\n",
              "      <td>1</td>\n",
              "    </tr>\n",
              "    <tr>\n",
              "      <th>...</th>\n",
              "      <td>...</td>\n",
              "      <td>...</td>\n",
              "      <td>...</td>\n",
              "      <td>...</td>\n",
              "      <td>...</td>\n",
              "      <td>...</td>\n",
              "      <td>...</td>\n",
              "      <td>...</td>\n",
              "      <td>...</td>\n",
              "      <td>...</td>\n",
              "      <td>...</td>\n",
              "      <td>...</td>\n",
              "      <td>...</td>\n",
              "      <td>...</td>\n",
              "      <td>...</td>\n",
              "      <td>...</td>\n",
              "      <td>...</td>\n",
              "      <td>...</td>\n",
              "    </tr>\n",
              "    <tr>\n",
              "      <th>145512</th>\n",
              "      <td>Fiscal</td>\n",
              "      <td>4</td>\n",
              "      <td>Community Health</td>\n",
              "      <td>DPH</td>\n",
              "      <td>DPH Public Health</td>\n",
              "      <td>791</td>\n",
              "      <td>SEIU - Staff and Per Diem Nurses, Local 1021</td>\n",
              "      <td>2300</td>\n",
              "      <td>Nursing</td>\n",
              "      <td>P103</td>\n",
              "      <td>Special Nurse</td>\n",
              "      <td>0.0</td>\n",
              "      <td>113.28</td>\n",
              "      <td>-0.02</td>\n",
              "      <td>0.00</td>\n",
              "      <td>44.73</td>\n",
              "      <td>44.71</td>\n",
              "      <td>1</td>\n",
              "    </tr>\n",
              "    <tr>\n",
              "      <th>146283</th>\n",
              "      <td>Fiscal</td>\n",
              "      <td>4</td>\n",
              "      <td>Community Health</td>\n",
              "      <td>DPH</td>\n",
              "      <td>DPH Public Health</td>\n",
              "      <td>791</td>\n",
              "      <td>SEIU - Staff and Per Diem Nurses, Local 1021</td>\n",
              "      <td>2300</td>\n",
              "      <td>Nursing</td>\n",
              "      <td>P103</td>\n",
              "      <td>Special Nurse</td>\n",
              "      <td>0.0</td>\n",
              "      <td>911.39</td>\n",
              "      <td>-16.07</td>\n",
              "      <td>1320.19</td>\n",
              "      <td>1008.65</td>\n",
              "      <td>2312.77</td>\n",
              "      <td>1</td>\n",
              "    </tr>\n",
              "    <tr>\n",
              "      <th>147119</th>\n",
              "      <td>Fiscal</td>\n",
              "      <td>4</td>\n",
              "      <td>Community Health</td>\n",
              "      <td>DPH</td>\n",
              "      <td>DPH Public Health</td>\n",
              "      <td>791</td>\n",
              "      <td>SEIU - Staff and Per Diem Nurses, Local 1021</td>\n",
              "      <td>2300</td>\n",
              "      <td>Nursing</td>\n",
              "      <td>P103</td>\n",
              "      <td>Special Nurse</td>\n",
              "      <td>0.0</td>\n",
              "      <td>90.27</td>\n",
              "      <td>-0.01</td>\n",
              "      <td>0.00</td>\n",
              "      <td>905.13</td>\n",
              "      <td>905.12</td>\n",
              "      <td>1</td>\n",
              "    </tr>\n",
              "    <tr>\n",
              "      <th>147257</th>\n",
              "      <td>Fiscal</td>\n",
              "      <td>4</td>\n",
              "      <td>Community Health</td>\n",
              "      <td>DPH</td>\n",
              "      <td>DPH Public Health</td>\n",
              "      <td>791</td>\n",
              "      <td>SEIU - Staff and Per Diem Nurses, Local 1021</td>\n",
              "      <td>2300</td>\n",
              "      <td>Nursing</td>\n",
              "      <td>P103</td>\n",
              "      <td>Special Nurse</td>\n",
              "      <td>0.0</td>\n",
              "      <td>250.64</td>\n",
              "      <td>-669.93</td>\n",
              "      <td>514.91</td>\n",
              "      <td>5280.71</td>\n",
              "      <td>5125.69</td>\n",
              "      <td>1</td>\n",
              "    </tr>\n",
              "    <tr>\n",
              "      <th>148874</th>\n",
              "      <td>Fiscal</td>\n",
              "      <td>1</td>\n",
              "      <td>Public Protection</td>\n",
              "      <td>POL</td>\n",
              "      <td>POL Police</td>\n",
              "      <td>911</td>\n",
              "      <td>Police Officers' Association</td>\n",
              "      <td>Q000</td>\n",
              "      <td>Police Services</td>\n",
              "      <td>Q004</td>\n",
              "      <td>Police Officer 3</td>\n",
              "      <td>0.0</td>\n",
              "      <td>0.00</td>\n",
              "      <td>-36.96</td>\n",
              "      <td>0.00</td>\n",
              "      <td>0.00</td>\n",
              "      <td>-36.96</td>\n",
              "      <td>1</td>\n",
              "    </tr>\n",
              "  </tbody>\n",
              "</table>\n",
              "<p>220 rows × 18 columns</p>\n",
              "</div>"
            ],
            "text/plain": [
              "       Year_Type Organization_Group_Code  ... Total_Benefits Class\n",
              "96        Fiscal                       1  ...         182.17     1\n",
              "1499      Fiscal                       4  ...         472.38     1\n",
              "1773      Fiscal                       4  ...        2532.40     1\n",
              "1813      Fiscal                       4  ...         122.16     1\n",
              "2448      Fiscal                       1  ...          -9.11     1\n",
              "...          ...                     ...  ...            ...   ...\n",
              "145512    Fiscal                       4  ...          44.71     1\n",
              "146283    Fiscal                       4  ...        2312.77     1\n",
              "147119    Fiscal                       4  ...         905.12     1\n",
              "147257    Fiscal                       4  ...        5125.69     1\n",
              "148874    Fiscal                       1  ...         -36.96     1\n",
              "\n",
              "[220 rows x 18 columns]"
            ]
          },
          "metadata": {
            "tags": []
          },
          "execution_count": 29
        },
        {
          "output_type": "execute_result",
          "data": {
            "text/plain": [
              "0.0014756484468800098"
            ]
          },
          "metadata": {
            "tags": []
          },
          "execution_count": 29
        }
      ]
    },
    {
      "cell_type": "code",
      "metadata": {
        "id": "DSvjJQO4P3re",
        "colab_type": "code",
        "colab": {
          "base_uri": "https://localhost:8080/",
          "height": 878
        },
        "outputId": "c9d5b825-5b36-499c-8e77-11d0687bb4d1"
      },
      "source": [
        "# Negative values of Health Benefits\n",
        "\n",
        "df[df['Health_Dental'] < 0]\n",
        "df[df['Health_Dental'] <0].shape[0]/df.shape[0]  # % of negative values"
      ],
      "execution_count": 30,
      "outputs": [
        {
          "output_type": "execute_result",
          "data": {
            "text/html": [
              "<div>\n",
              "<style scoped>\n",
              "    .dataframe tbody tr th:only-of-type {\n",
              "        vertical-align: middle;\n",
              "    }\n",
              "\n",
              "    .dataframe tbody tr th {\n",
              "        vertical-align: top;\n",
              "    }\n",
              "\n",
              "    .dataframe thead th {\n",
              "        text-align: right;\n",
              "    }\n",
              "</style>\n",
              "<table border=\"1\" class=\"dataframe\">\n",
              "  <thead>\n",
              "    <tr style=\"text-align: right;\">\n",
              "      <th></th>\n",
              "      <th>Year_Type</th>\n",
              "      <th>Organization_Group_Code</th>\n",
              "      <th>Organization_Group</th>\n",
              "      <th>Department_Code</th>\n",
              "      <th>Department</th>\n",
              "      <th>Union_Code</th>\n",
              "      <th>Union</th>\n",
              "      <th>Job_Family_Code</th>\n",
              "      <th>Job_Family</th>\n",
              "      <th>Job_Code</th>\n",
              "      <th>Job</th>\n",
              "      <th>Overtime</th>\n",
              "      <th>Other_Salaries</th>\n",
              "      <th>Retirement</th>\n",
              "      <th>Health_Dental</th>\n",
              "      <th>Other_Benefits</th>\n",
              "      <th>Total_Benefits</th>\n",
              "      <th>Class</th>\n",
              "    </tr>\n",
              "  </thead>\n",
              "  <tbody>\n",
              "    <tr>\n",
              "      <th>918</th>\n",
              "      <td>Fiscal</td>\n",
              "      <td>6</td>\n",
              "      <td>General Administration &amp; Finance</td>\n",
              "      <td>RET</td>\n",
              "      <td>RET Retirement System</td>\n",
              "      <td>323</td>\n",
              "      <td>Members of Boards and Commissions</td>\n",
              "      <td>900</td>\n",
              "      <td>Management</td>\n",
              "      <td>119</td>\n",
              "      <td>Commissioner 16700c, No Pay</td>\n",
              "      <td>0.0</td>\n",
              "      <td>0.00</td>\n",
              "      <td>0.00</td>\n",
              "      <td>-199.96</td>\n",
              "      <td>0.00</td>\n",
              "      <td>-199.96</td>\n",
              "      <td>1</td>\n",
              "    </tr>\n",
              "    <tr>\n",
              "      <th>3814</th>\n",
              "      <td>Fiscal</td>\n",
              "      <td>4</td>\n",
              "      <td>Community Health</td>\n",
              "      <td>DPH</td>\n",
              "      <td>DPH Public Health</td>\n",
              "      <td>791</td>\n",
              "      <td>SEIU - Staff and Per Diem Nurses, Local 1021</td>\n",
              "      <td>2300</td>\n",
              "      <td>Nursing</td>\n",
              "      <td>2320</td>\n",
              "      <td>Registered Nurse</td>\n",
              "      <td>0.0</td>\n",
              "      <td>5613.12</td>\n",
              "      <td>0.00</td>\n",
              "      <td>-199.96</td>\n",
              "      <td>433.02</td>\n",
              "      <td>233.06</td>\n",
              "      <td>1</td>\n",
              "    </tr>\n",
              "    <tr>\n",
              "      <th>4739</th>\n",
              "      <td>Fiscal</td>\n",
              "      <td>2</td>\n",
              "      <td>Public Works, Transportation &amp; Commerce</td>\n",
              "      <td>PRT</td>\n",
              "      <td>PRT Port</td>\n",
              "      <td>351</td>\n",
              "      <td>Municipal Executive Association - Miscellaneous</td>\n",
              "      <td>900</td>\n",
              "      <td>Management</td>\n",
              "      <td>941</td>\n",
              "      <td>Manager VI</td>\n",
              "      <td>0.0</td>\n",
              "      <td>24897.51</td>\n",
              "      <td>0.00</td>\n",
              "      <td>-199.96</td>\n",
              "      <td>1135.33</td>\n",
              "      <td>935.37</td>\n",
              "      <td>1</td>\n",
              "    </tr>\n",
              "    <tr>\n",
              "      <th>6023</th>\n",
              "      <td>Fiscal</td>\n",
              "      <td>4</td>\n",
              "      <td>Community Health</td>\n",
              "      <td>DPH</td>\n",
              "      <td>DPH Public Health</td>\n",
              "      <td>790</td>\n",
              "      <td>SEIU - Miscellaneous, Local 1021</td>\n",
              "      <td>1400</td>\n",
              "      <td>Clerical, Secretarial &amp; Steno</td>\n",
              "      <td>1404</td>\n",
              "      <td>Clerk</td>\n",
              "      <td>0.0</td>\n",
              "      <td>0.00</td>\n",
              "      <td>0.00</td>\n",
              "      <td>-199.96</td>\n",
              "      <td>0.00</td>\n",
              "      <td>-199.96</td>\n",
              "      <td>1</td>\n",
              "    </tr>\n",
              "    <tr>\n",
              "      <th>7606</th>\n",
              "      <td>Fiscal</td>\n",
              "      <td>4</td>\n",
              "      <td>Community Health</td>\n",
              "      <td>DPH</td>\n",
              "      <td>DPH Public Health</td>\n",
              "      <td>250</td>\n",
              "      <td>SEIU - Health Workers, Local 1021</td>\n",
              "      <td>2300</td>\n",
              "      <td>Nursing</td>\n",
              "      <td>2302</td>\n",
              "      <td>Nursing Assistant</td>\n",
              "      <td>0.0</td>\n",
              "      <td>9116.02</td>\n",
              "      <td>0.00</td>\n",
              "      <td>-199.96</td>\n",
              "      <td>697.74</td>\n",
              "      <td>497.78</td>\n",
              "      <td>1</td>\n",
              "    </tr>\n",
              "    <tr>\n",
              "      <th>...</th>\n",
              "      <td>...</td>\n",
              "      <td>...</td>\n",
              "      <td>...</td>\n",
              "      <td>...</td>\n",
              "      <td>...</td>\n",
              "      <td>...</td>\n",
              "      <td>...</td>\n",
              "      <td>...</td>\n",
              "      <td>...</td>\n",
              "      <td>...</td>\n",
              "      <td>...</td>\n",
              "      <td>...</td>\n",
              "      <td>...</td>\n",
              "      <td>...</td>\n",
              "      <td>...</td>\n",
              "      <td>...</td>\n",
              "      <td>...</td>\n",
              "      <td>...</td>\n",
              "    </tr>\n",
              "    <tr>\n",
              "      <th>137672</th>\n",
              "      <td>Fiscal</td>\n",
              "      <td>4</td>\n",
              "      <td>Community Health</td>\n",
              "      <td>DPH</td>\n",
              "      <td>DPH Public Health</td>\n",
              "      <td>250</td>\n",
              "      <td>SEIU - Health Workers, Local 1021</td>\n",
              "      <td>2300</td>\n",
              "      <td>Nursing</td>\n",
              "      <td>2302</td>\n",
              "      <td>Nursing Assistant</td>\n",
              "      <td>0.0</td>\n",
              "      <td>8178.73</td>\n",
              "      <td>-232.81</td>\n",
              "      <td>-239.79</td>\n",
              "      <td>526.02</td>\n",
              "      <td>53.42</td>\n",
              "      <td>1</td>\n",
              "    </tr>\n",
              "    <tr>\n",
              "      <th>142139</th>\n",
              "      <td>Fiscal</td>\n",
              "      <td>1</td>\n",
              "      <td>Public Protection</td>\n",
              "      <td>POL</td>\n",
              "      <td>POL Police</td>\n",
              "      <td>911</td>\n",
              "      <td>Police Officers' Association</td>\n",
              "      <td>Q000</td>\n",
              "      <td>Police Services</td>\n",
              "      <td>Q004</td>\n",
              "      <td>Police Officer 3</td>\n",
              "      <td>0.0</td>\n",
              "      <td>0.00</td>\n",
              "      <td>182.23</td>\n",
              "      <td>-199.96</td>\n",
              "      <td>14.54</td>\n",
              "      <td>-3.19</td>\n",
              "      <td>1</td>\n",
              "    </tr>\n",
              "    <tr>\n",
              "      <th>144154</th>\n",
              "      <td>Fiscal</td>\n",
              "      <td>4</td>\n",
              "      <td>Community Health</td>\n",
              "      <td>DPH</td>\n",
              "      <td>DPH Public Health</td>\n",
              "      <td>791</td>\n",
              "      <td>SEIU - Staff and Per Diem Nurses, Local 1021</td>\n",
              "      <td>2300</td>\n",
              "      <td>Nursing</td>\n",
              "      <td>2328</td>\n",
              "      <td>Nurse Practitioner</td>\n",
              "      <td>0.0</td>\n",
              "      <td>8733.84</td>\n",
              "      <td>0.00</td>\n",
              "      <td>-199.96</td>\n",
              "      <td>668.15</td>\n",
              "      <td>468.19</td>\n",
              "      <td>1</td>\n",
              "    </tr>\n",
              "    <tr>\n",
              "      <th>145482</th>\n",
              "      <td>Fiscal</td>\n",
              "      <td>3</td>\n",
              "      <td>Human Welfare &amp; Neighborhood Development</td>\n",
              "      <td>DSS</td>\n",
              "      <td>HSA Human Services Agency</td>\n",
              "      <td>1</td>\n",
              "      <td>Miscellaneous Unrepresented Employees</td>\n",
              "      <td>9900</td>\n",
              "      <td>Public Service Aide</td>\n",
              "      <td>9916</td>\n",
              "      <td>Public Svc Aide-Public Works</td>\n",
              "      <td>0.0</td>\n",
              "      <td>-21.76</td>\n",
              "      <td>0.00</td>\n",
              "      <td>-369.19</td>\n",
              "      <td>-63.51</td>\n",
              "      <td>-432.70</td>\n",
              "      <td>1</td>\n",
              "    </tr>\n",
              "    <tr>\n",
              "      <th>146229</th>\n",
              "      <td>Fiscal</td>\n",
              "      <td>5</td>\n",
              "      <td>Culture &amp; Recreation</td>\n",
              "      <td>REC</td>\n",
              "      <td>REC Recreation &amp; Park Commsn</td>\n",
              "      <td>790</td>\n",
              "      <td>SEIU - Miscellaneous, Local 1021</td>\n",
              "      <td>3200</td>\n",
              "      <td>Recreation</td>\n",
              "      <td>3279</td>\n",
              "      <td>Recreation Leader</td>\n",
              "      <td>0.0</td>\n",
              "      <td>-16.68</td>\n",
              "      <td>0.00</td>\n",
              "      <td>-469.99</td>\n",
              "      <td>-106.89</td>\n",
              "      <td>-576.88</td>\n",
              "      <td>1</td>\n",
              "    </tr>\n",
              "  </tbody>\n",
              "</table>\n",
              "<p>100 rows × 18 columns</p>\n",
              "</div>"
            ],
            "text/plain": [
              "       Year_Type Organization_Group_Code  ... Total_Benefits Class\n",
              "918       Fiscal                       6  ...        -199.96     1\n",
              "3814      Fiscal                       4  ...         233.06     1\n",
              "4739      Fiscal                       2  ...         935.37     1\n",
              "6023      Fiscal                       4  ...        -199.96     1\n",
              "7606      Fiscal                       4  ...         497.78     1\n",
              "...          ...                     ...  ...            ...   ...\n",
              "137672    Fiscal                       4  ...          53.42     1\n",
              "142139    Fiscal                       1  ...          -3.19     1\n",
              "144154    Fiscal                       4  ...         468.19     1\n",
              "145482    Fiscal                       3  ...        -432.70     1\n",
              "146229    Fiscal                       5  ...        -576.88     1\n",
              "\n",
              "[100 rows x 18 columns]"
            ]
          },
          "metadata": {
            "tags": []
          },
          "execution_count": 30
        },
        {
          "output_type": "execute_result",
          "data": {
            "text/plain": [
              "0.0006707492940363681"
            ]
          },
          "metadata": {
            "tags": []
          },
          "execution_count": 30
        }
      ]
    },
    {
      "cell_type": "code",
      "metadata": {
        "id": "dRLumgDAQSSv",
        "colab_type": "code",
        "colab": {
          "base_uri": "https://localhost:8080/",
          "height": 965
        },
        "outputId": "fa7be009-4112-4e63-b3e6-b9fb3314ee80"
      },
      "source": [
        "# Negative values of Other Benefits\n",
        "\n",
        "df[df['Other_Benefits'] < 0]\n",
        "df[df['Other_Benefits'] <0].shape[0]/df.shape[0]  # % of negative values"
      ],
      "execution_count": 31,
      "outputs": [
        {
          "output_type": "execute_result",
          "data": {
            "text/html": [
              "<div>\n",
              "<style scoped>\n",
              "    .dataframe tbody tr th:only-of-type {\n",
              "        vertical-align: middle;\n",
              "    }\n",
              "\n",
              "    .dataframe tbody tr th {\n",
              "        vertical-align: top;\n",
              "    }\n",
              "\n",
              "    .dataframe thead th {\n",
              "        text-align: right;\n",
              "    }\n",
              "</style>\n",
              "<table border=\"1\" class=\"dataframe\">\n",
              "  <thead>\n",
              "    <tr style=\"text-align: right;\">\n",
              "      <th></th>\n",
              "      <th>Year_Type</th>\n",
              "      <th>Organization_Group_Code</th>\n",
              "      <th>Organization_Group</th>\n",
              "      <th>Department_Code</th>\n",
              "      <th>Department</th>\n",
              "      <th>Union_Code</th>\n",
              "      <th>Union</th>\n",
              "      <th>Job_Family_Code</th>\n",
              "      <th>Job_Family</th>\n",
              "      <th>Job_Code</th>\n",
              "      <th>Job</th>\n",
              "      <th>Overtime</th>\n",
              "      <th>Other_Salaries</th>\n",
              "      <th>Retirement</th>\n",
              "      <th>Health_Dental</th>\n",
              "      <th>Other_Benefits</th>\n",
              "      <th>Total_Benefits</th>\n",
              "      <th>Class</th>\n",
              "    </tr>\n",
              "  </thead>\n",
              "  <tbody>\n",
              "    <tr>\n",
              "      <th>177</th>\n",
              "      <td>Fiscal</td>\n",
              "      <td>2</td>\n",
              "      <td>Public Works, Transportation &amp; Commerce</td>\n",
              "      <td>MTA</td>\n",
              "      <td>MTA Municipal Transprtn Agncy</td>\n",
              "      <td>21</td>\n",
              "      <td>Prof &amp; Tech Engineers - Miscellaneous, Local 21</td>\n",
              "      <td>5300</td>\n",
              "      <td>Sub-Professional Engineering</td>\n",
              "      <td>5302</td>\n",
              "      <td>Traffic Survey Technician</td>\n",
              "      <td>0.0</td>\n",
              "      <td>0.00</td>\n",
              "      <td>0.00</td>\n",
              "      <td>0.00</td>\n",
              "      <td>-20.33</td>\n",
              "      <td>-20.33</td>\n",
              "      <td>1</td>\n",
              "    </tr>\n",
              "    <tr>\n",
              "      <th>538</th>\n",
              "      <td>Fiscal</td>\n",
              "      <td>4</td>\n",
              "      <td>Community Health</td>\n",
              "      <td>DPH</td>\n",
              "      <td>DPH Public Health</td>\n",
              "      <td>791</td>\n",
              "      <td>SEIU - Staff and Per Diem Nurses, Local 1021</td>\n",
              "      <td>2300</td>\n",
              "      <td>Nursing</td>\n",
              "      <td>P103</td>\n",
              "      <td>Special Nurse</td>\n",
              "      <td>0.0</td>\n",
              "      <td>56.64</td>\n",
              "      <td>0.00</td>\n",
              "      <td>0.00</td>\n",
              "      <td>-0.02</td>\n",
              "      <td>-0.02</td>\n",
              "      <td>1</td>\n",
              "    </tr>\n",
              "    <tr>\n",
              "      <th>644</th>\n",
              "      <td>Fiscal</td>\n",
              "      <td>2</td>\n",
              "      <td>Public Works, Transportation &amp; Commerce</td>\n",
              "      <td>MTA</td>\n",
              "      <td>MTA Municipal Transprtn Agncy</td>\n",
              "      <td>21</td>\n",
              "      <td>Prof &amp; Tech Engineers - Miscellaneous, Local 21</td>\n",
              "      <td>1800</td>\n",
              "      <td>Budget, Admn &amp; Stats Analysis</td>\n",
              "      <td>1824</td>\n",
              "      <td>Pr Administrative Analyst</td>\n",
              "      <td>0.0</td>\n",
              "      <td>0.00</td>\n",
              "      <td>0.00</td>\n",
              "      <td>0.00</td>\n",
              "      <td>-11.85</td>\n",
              "      <td>-11.85</td>\n",
              "      <td>1</td>\n",
              "    </tr>\n",
              "    <tr>\n",
              "      <th>1091</th>\n",
              "      <td>Fiscal</td>\n",
              "      <td>4</td>\n",
              "      <td>Community Health</td>\n",
              "      <td>DPH</td>\n",
              "      <td>DPH Public Health</td>\n",
              "      <td>791</td>\n",
              "      <td>SEIU - Staff and Per Diem Nurses, Local 1021</td>\n",
              "      <td>2300</td>\n",
              "      <td>Nursing</td>\n",
              "      <td>P103</td>\n",
              "      <td>Special Nurse</td>\n",
              "      <td>0.0</td>\n",
              "      <td>69.91</td>\n",
              "      <td>5282.69</td>\n",
              "      <td>72.11</td>\n",
              "      <td>-0.01</td>\n",
              "      <td>5354.79</td>\n",
              "      <td>1</td>\n",
              "    </tr>\n",
              "    <tr>\n",
              "      <th>3085</th>\n",
              "      <td>Fiscal</td>\n",
              "      <td>3</td>\n",
              "      <td>Human Welfare &amp; Neighborhood Development</td>\n",
              "      <td>ENV</td>\n",
              "      <td>ENV Environment</td>\n",
              "      <td>790</td>\n",
              "      <td>SEIU - Miscellaneous, Local 1021</td>\n",
              "      <td>9900</td>\n",
              "      <td>Public Service Aide</td>\n",
              "      <td>9920</td>\n",
              "      <td>Publ Svc Aide-Asst To Prof</td>\n",
              "      <td>0.0</td>\n",
              "      <td>0.00</td>\n",
              "      <td>0.00</td>\n",
              "      <td>0.00</td>\n",
              "      <td>-7.14</td>\n",
              "      <td>-7.14</td>\n",
              "      <td>1</td>\n",
              "    </tr>\n",
              "    <tr>\n",
              "      <th>...</th>\n",
              "      <td>...</td>\n",
              "      <td>...</td>\n",
              "      <td>...</td>\n",
              "      <td>...</td>\n",
              "      <td>...</td>\n",
              "      <td>...</td>\n",
              "      <td>...</td>\n",
              "      <td>...</td>\n",
              "      <td>...</td>\n",
              "      <td>...</td>\n",
              "      <td>...</td>\n",
              "      <td>...</td>\n",
              "      <td>...</td>\n",
              "      <td>...</td>\n",
              "      <td>...</td>\n",
              "      <td>...</td>\n",
              "      <td>...</td>\n",
              "      <td>...</td>\n",
              "    </tr>\n",
              "    <tr>\n",
              "      <th>147062</th>\n",
              "      <td>Fiscal</td>\n",
              "      <td>4</td>\n",
              "      <td>Community Health</td>\n",
              "      <td>DPH</td>\n",
              "      <td>DPH Public Health</td>\n",
              "      <td>791</td>\n",
              "      <td>SEIU - Staff and Per Diem Nurses, Local 1021</td>\n",
              "      <td>2300</td>\n",
              "      <td>Nursing</td>\n",
              "      <td>P103</td>\n",
              "      <td>Special Nurse</td>\n",
              "      <td>0.0</td>\n",
              "      <td>26.70</td>\n",
              "      <td>0.01</td>\n",
              "      <td>0.00</td>\n",
              "      <td>-0.01</td>\n",
              "      <td>0.00</td>\n",
              "      <td>1</td>\n",
              "    </tr>\n",
              "    <tr>\n",
              "      <th>147280</th>\n",
              "      <td>Fiscal</td>\n",
              "      <td>4</td>\n",
              "      <td>Community Health</td>\n",
              "      <td>DPH</td>\n",
              "      <td>DPH Public Health</td>\n",
              "      <td>791</td>\n",
              "      <td>SEIU - Staff and Per Diem Nurses, Local 1021</td>\n",
              "      <td>2300</td>\n",
              "      <td>Nursing</td>\n",
              "      <td>P103</td>\n",
              "      <td>Special Nurse</td>\n",
              "      <td>0.0</td>\n",
              "      <td>201.64</td>\n",
              "      <td>4432.42</td>\n",
              "      <td>504.02</td>\n",
              "      <td>-0.04</td>\n",
              "      <td>4936.40</td>\n",
              "      <td>1</td>\n",
              "    </tr>\n",
              "    <tr>\n",
              "      <th>147532</th>\n",
              "      <td>Fiscal</td>\n",
              "      <td>4</td>\n",
              "      <td>Community Health</td>\n",
              "      <td>DPH</td>\n",
              "      <td>DPH Public Health</td>\n",
              "      <td>791</td>\n",
              "      <td>SEIU - Staff and Per Diem Nurses, Local 1021</td>\n",
              "      <td>2300</td>\n",
              "      <td>Nursing</td>\n",
              "      <td>P103</td>\n",
              "      <td>Special Nurse</td>\n",
              "      <td>0.0</td>\n",
              "      <td>201.72</td>\n",
              "      <td>0.04</td>\n",
              "      <td>0.00</td>\n",
              "      <td>-0.01</td>\n",
              "      <td>0.03</td>\n",
              "      <td>1</td>\n",
              "    </tr>\n",
              "    <tr>\n",
              "      <th>148046</th>\n",
              "      <td>Fiscal</td>\n",
              "      <td>5</td>\n",
              "      <td>Culture &amp; Recreation</td>\n",
              "      <td>REC</td>\n",
              "      <td>REC Recreation &amp; Park Commsn</td>\n",
              "      <td>21</td>\n",
              "      <td>Prof &amp; Tech Engineers - Miscellaneous, Local 21</td>\n",
              "      <td>5300</td>\n",
              "      <td>Sub-Professional Engineering</td>\n",
              "      <td>5380</td>\n",
              "      <td>Stdntdsgntrain1, Arch/Eng/Plng</td>\n",
              "      <td>0.0</td>\n",
              "      <td>0.00</td>\n",
              "      <td>0.00</td>\n",
              "      <td>4886.83</td>\n",
              "      <td>-79.19</td>\n",
              "      <td>4807.64</td>\n",
              "      <td>1</td>\n",
              "    </tr>\n",
              "    <tr>\n",
              "      <th>148873</th>\n",
              "      <td>Fiscal</td>\n",
              "      <td>4</td>\n",
              "      <td>Community Health</td>\n",
              "      <td>DPH</td>\n",
              "      <td>DPH Public Health</td>\n",
              "      <td>791</td>\n",
              "      <td>SEIU - Staff and Per Diem Nurses, Local 1021</td>\n",
              "      <td>2300</td>\n",
              "      <td>Nursing</td>\n",
              "      <td>P103</td>\n",
              "      <td>Special Nurse</td>\n",
              "      <td>0.0</td>\n",
              "      <td>0.00</td>\n",
              "      <td>1698.83</td>\n",
              "      <td>0.00</td>\n",
              "      <td>-0.02</td>\n",
              "      <td>1698.81</td>\n",
              "      <td>1</td>\n",
              "    </tr>\n",
              "  </tbody>\n",
              "</table>\n",
              "<p>276 rows × 18 columns</p>\n",
              "</div>"
            ],
            "text/plain": [
              "       Year_Type Organization_Group_Code  ... Total_Benefits Class\n",
              "177       Fiscal                       2  ...         -20.33     1\n",
              "538       Fiscal                       4  ...          -0.02     1\n",
              "644       Fiscal                       2  ...         -11.85     1\n",
              "1091      Fiscal                       4  ...        5354.79     1\n",
              "3085      Fiscal                       3  ...          -7.14     1\n",
              "...          ...                     ...  ...            ...   ...\n",
              "147062    Fiscal                       4  ...           0.00     1\n",
              "147280    Fiscal                       4  ...        4936.40     1\n",
              "147532    Fiscal                       4  ...           0.03     1\n",
              "148046    Fiscal                       5  ...        4807.64     1\n",
              "148873    Fiscal                       4  ...        1698.81     1\n",
              "\n",
              "[276 rows x 18 columns]"
            ]
          },
          "metadata": {
            "tags": []
          },
          "execution_count": 31
        },
        {
          "output_type": "execute_result",
          "data": {
            "text/plain": [
              "0.0018512680515403758"
            ]
          },
          "metadata": {
            "tags": []
          },
          "execution_count": 31
        }
      ]
    },
    {
      "cell_type": "code",
      "metadata": {
        "id": "SDS6x7eRQtvU",
        "colab_type": "code",
        "colab": {
          "base_uri": "https://localhost:8080/",
          "height": 895
        },
        "outputId": "c2988987-c6ea-4e9a-c025-0f3775560047"
      },
      "source": [
        "# Negative values of Other Benefits\n",
        "\n",
        "df[df['Total_Benefits'] < 0]\n",
        "df[df['Total_Benefits'] <0].shape[0]/df.shape[0]  # % of negative values"
      ],
      "execution_count": 32,
      "outputs": [
        {
          "output_type": "execute_result",
          "data": {
            "text/html": [
              "<div>\n",
              "<style scoped>\n",
              "    .dataframe tbody tr th:only-of-type {\n",
              "        vertical-align: middle;\n",
              "    }\n",
              "\n",
              "    .dataframe tbody tr th {\n",
              "        vertical-align: top;\n",
              "    }\n",
              "\n",
              "    .dataframe thead th {\n",
              "        text-align: right;\n",
              "    }\n",
              "</style>\n",
              "<table border=\"1\" class=\"dataframe\">\n",
              "  <thead>\n",
              "    <tr style=\"text-align: right;\">\n",
              "      <th></th>\n",
              "      <th>Year_Type</th>\n",
              "      <th>Organization_Group_Code</th>\n",
              "      <th>Organization_Group</th>\n",
              "      <th>Department_Code</th>\n",
              "      <th>Department</th>\n",
              "      <th>Union_Code</th>\n",
              "      <th>Union</th>\n",
              "      <th>Job_Family_Code</th>\n",
              "      <th>Job_Family</th>\n",
              "      <th>Job_Code</th>\n",
              "      <th>Job</th>\n",
              "      <th>Overtime</th>\n",
              "      <th>Other_Salaries</th>\n",
              "      <th>Retirement</th>\n",
              "      <th>Health_Dental</th>\n",
              "      <th>Other_Benefits</th>\n",
              "      <th>Total_Benefits</th>\n",
              "      <th>Class</th>\n",
              "    </tr>\n",
              "  </thead>\n",
              "  <tbody>\n",
              "    <tr>\n",
              "      <th>177</th>\n",
              "      <td>Fiscal</td>\n",
              "      <td>2</td>\n",
              "      <td>Public Works, Transportation &amp; Commerce</td>\n",
              "      <td>MTA</td>\n",
              "      <td>MTA Municipal Transprtn Agncy</td>\n",
              "      <td>21</td>\n",
              "      <td>Prof &amp; Tech Engineers - Miscellaneous, Local 21</td>\n",
              "      <td>5300</td>\n",
              "      <td>Sub-Professional Engineering</td>\n",
              "      <td>5302</td>\n",
              "      <td>Traffic Survey Technician</td>\n",
              "      <td>0.0</td>\n",
              "      <td>0.00</td>\n",
              "      <td>0.00</td>\n",
              "      <td>0.00</td>\n",
              "      <td>-20.33</td>\n",
              "      <td>-20.33</td>\n",
              "      <td>1</td>\n",
              "    </tr>\n",
              "    <tr>\n",
              "      <th>538</th>\n",
              "      <td>Fiscal</td>\n",
              "      <td>4</td>\n",
              "      <td>Community Health</td>\n",
              "      <td>DPH</td>\n",
              "      <td>DPH Public Health</td>\n",
              "      <td>791</td>\n",
              "      <td>SEIU - Staff and Per Diem Nurses, Local 1021</td>\n",
              "      <td>2300</td>\n",
              "      <td>Nursing</td>\n",
              "      <td>P103</td>\n",
              "      <td>Special Nurse</td>\n",
              "      <td>0.0</td>\n",
              "      <td>56.64</td>\n",
              "      <td>0.00</td>\n",
              "      <td>0.00</td>\n",
              "      <td>-0.02</td>\n",
              "      <td>-0.02</td>\n",
              "      <td>1</td>\n",
              "    </tr>\n",
              "    <tr>\n",
              "      <th>644</th>\n",
              "      <td>Fiscal</td>\n",
              "      <td>2</td>\n",
              "      <td>Public Works, Transportation &amp; Commerce</td>\n",
              "      <td>MTA</td>\n",
              "      <td>MTA Municipal Transprtn Agncy</td>\n",
              "      <td>21</td>\n",
              "      <td>Prof &amp; Tech Engineers - Miscellaneous, Local 21</td>\n",
              "      <td>1800</td>\n",
              "      <td>Budget, Admn &amp; Stats Analysis</td>\n",
              "      <td>1824</td>\n",
              "      <td>Pr Administrative Analyst</td>\n",
              "      <td>0.0</td>\n",
              "      <td>0.00</td>\n",
              "      <td>0.00</td>\n",
              "      <td>0.00</td>\n",
              "      <td>-11.85</td>\n",
              "      <td>-11.85</td>\n",
              "      <td>1</td>\n",
              "    </tr>\n",
              "    <tr>\n",
              "      <th>918</th>\n",
              "      <td>Fiscal</td>\n",
              "      <td>6</td>\n",
              "      <td>General Administration &amp; Finance</td>\n",
              "      <td>RET</td>\n",
              "      <td>RET Retirement System</td>\n",
              "      <td>323</td>\n",
              "      <td>Members of Boards and Commissions</td>\n",
              "      <td>900</td>\n",
              "      <td>Management</td>\n",
              "      <td>119</td>\n",
              "      <td>Commissioner 16700c, No Pay</td>\n",
              "      <td>0.0</td>\n",
              "      <td>0.00</td>\n",
              "      <td>0.00</td>\n",
              "      <td>-199.96</td>\n",
              "      <td>0.00</td>\n",
              "      <td>-199.96</td>\n",
              "      <td>1</td>\n",
              "    </tr>\n",
              "    <tr>\n",
              "      <th>2448</th>\n",
              "      <td>Fiscal</td>\n",
              "      <td>1</td>\n",
              "      <td>Public Protection</td>\n",
              "      <td>POL</td>\n",
              "      <td>POL Police</td>\n",
              "      <td>911</td>\n",
              "      <td>Police Officers' Association</td>\n",
              "      <td>Q000</td>\n",
              "      <td>Police Services</td>\n",
              "      <td>Q004</td>\n",
              "      <td>Police Officer 3</td>\n",
              "      <td>0.0</td>\n",
              "      <td>0.00</td>\n",
              "      <td>-9.11</td>\n",
              "      <td>0.00</td>\n",
              "      <td>0.00</td>\n",
              "      <td>-9.11</td>\n",
              "      <td>1</td>\n",
              "    </tr>\n",
              "    <tr>\n",
              "      <th>...</th>\n",
              "      <td>...</td>\n",
              "      <td>...</td>\n",
              "      <td>...</td>\n",
              "      <td>...</td>\n",
              "      <td>...</td>\n",
              "      <td>...</td>\n",
              "      <td>...</td>\n",
              "      <td>...</td>\n",
              "      <td>...</td>\n",
              "      <td>...</td>\n",
              "      <td>...</td>\n",
              "      <td>...</td>\n",
              "      <td>...</td>\n",
              "      <td>...</td>\n",
              "      <td>...</td>\n",
              "      <td>...</td>\n",
              "      <td>...</td>\n",
              "      <td>...</td>\n",
              "    </tr>\n",
              "    <tr>\n",
              "      <th>143502</th>\n",
              "      <td>Fiscal</td>\n",
              "      <td>1</td>\n",
              "      <td>Public Protection</td>\n",
              "      <td>POL</td>\n",
              "      <td>POL Police</td>\n",
              "      <td>911</td>\n",
              "      <td>Police Officers' Association</td>\n",
              "      <td>Q000</td>\n",
              "      <td>Police Services</td>\n",
              "      <td>Q062</td>\n",
              "      <td>Lieutenant 3</td>\n",
              "      <td>0.0</td>\n",
              "      <td>98648.25</td>\n",
              "      <td>-88.77</td>\n",
              "      <td>0.00</td>\n",
              "      <td>0.00</td>\n",
              "      <td>-88.77</td>\n",
              "      <td>1</td>\n",
              "    </tr>\n",
              "    <tr>\n",
              "      <th>144079</th>\n",
              "      <td>Fiscal</td>\n",
              "      <td>2</td>\n",
              "      <td>Public Works, Transportation &amp; Commerce</td>\n",
              "      <td>MTA</td>\n",
              "      <td>MTA Municipal Transprtn Agncy</td>\n",
              "      <td>790</td>\n",
              "      <td>SEIU - Miscellaneous, Local 1021</td>\n",
              "      <td>8200</td>\n",
              "      <td>Protection &amp; Apprehension</td>\n",
              "      <td>8202</td>\n",
              "      <td>Security Guard</td>\n",
              "      <td>0.0</td>\n",
              "      <td>0.00</td>\n",
              "      <td>0.00</td>\n",
              "      <td>0.00</td>\n",
              "      <td>-172.65</td>\n",
              "      <td>-172.65</td>\n",
              "      <td>1</td>\n",
              "    </tr>\n",
              "    <tr>\n",
              "      <th>145482</th>\n",
              "      <td>Fiscal</td>\n",
              "      <td>3</td>\n",
              "      <td>Human Welfare &amp; Neighborhood Development</td>\n",
              "      <td>DSS</td>\n",
              "      <td>HSA Human Services Agency</td>\n",
              "      <td>1</td>\n",
              "      <td>Miscellaneous Unrepresented Employees</td>\n",
              "      <td>9900</td>\n",
              "      <td>Public Service Aide</td>\n",
              "      <td>9916</td>\n",
              "      <td>Public Svc Aide-Public Works</td>\n",
              "      <td>0.0</td>\n",
              "      <td>-21.76</td>\n",
              "      <td>0.00</td>\n",
              "      <td>-369.19</td>\n",
              "      <td>-63.51</td>\n",
              "      <td>-432.70</td>\n",
              "      <td>1</td>\n",
              "    </tr>\n",
              "    <tr>\n",
              "      <th>146229</th>\n",
              "      <td>Fiscal</td>\n",
              "      <td>5</td>\n",
              "      <td>Culture &amp; Recreation</td>\n",
              "      <td>REC</td>\n",
              "      <td>REC Recreation &amp; Park Commsn</td>\n",
              "      <td>790</td>\n",
              "      <td>SEIU - Miscellaneous, Local 1021</td>\n",
              "      <td>3200</td>\n",
              "      <td>Recreation</td>\n",
              "      <td>3279</td>\n",
              "      <td>Recreation Leader</td>\n",
              "      <td>0.0</td>\n",
              "      <td>-16.68</td>\n",
              "      <td>0.00</td>\n",
              "      <td>-469.99</td>\n",
              "      <td>-106.89</td>\n",
              "      <td>-576.88</td>\n",
              "      <td>1</td>\n",
              "    </tr>\n",
              "    <tr>\n",
              "      <th>148874</th>\n",
              "      <td>Fiscal</td>\n",
              "      <td>1</td>\n",
              "      <td>Public Protection</td>\n",
              "      <td>POL</td>\n",
              "      <td>POL Police</td>\n",
              "      <td>911</td>\n",
              "      <td>Police Officers' Association</td>\n",
              "      <td>Q000</td>\n",
              "      <td>Police Services</td>\n",
              "      <td>Q004</td>\n",
              "      <td>Police Officer 3</td>\n",
              "      <td>0.0</td>\n",
              "      <td>0.00</td>\n",
              "      <td>-36.96</td>\n",
              "      <td>0.00</td>\n",
              "      <td>0.00</td>\n",
              "      <td>-36.96</td>\n",
              "      <td>1</td>\n",
              "    </tr>\n",
              "  </tbody>\n",
              "</table>\n",
              "<p>236 rows × 18 columns</p>\n",
              "</div>"
            ],
            "text/plain": [
              "       Year_Type Organization_Group_Code  ... Total_Benefits Class\n",
              "177       Fiscal                       2  ...         -20.33     1\n",
              "538       Fiscal                       4  ...          -0.02     1\n",
              "644       Fiscal                       2  ...         -11.85     1\n",
              "918       Fiscal                       6  ...        -199.96     1\n",
              "2448      Fiscal                       1  ...          -9.11     1\n",
              "...          ...                     ...  ...            ...   ...\n",
              "143502    Fiscal                       1  ...         -88.77     1\n",
              "144079    Fiscal                       2  ...        -172.65     1\n",
              "145482    Fiscal                       3  ...        -432.70     1\n",
              "146229    Fiscal                       5  ...        -576.88     1\n",
              "148874    Fiscal                       1  ...         -36.96     1\n",
              "\n",
              "[236 rows x 18 columns]"
            ]
          },
          "metadata": {
            "tags": []
          },
          "execution_count": 32
        },
        {
          "output_type": "execute_result",
          "data": {
            "text/plain": [
              "0.0015829683339258285"
            ]
          },
          "metadata": {
            "tags": []
          },
          "execution_count": 32
        }
      ]
    },
    {
      "cell_type": "markdown",
      "metadata": {
        "id": "fvQjQtQ1Q-mm",
        "colab_type": "text"
      },
      "source": [
        "Noticing these values first hand, we could see many of the indices are being repeated and there is a chance, they may be common to each other. In such cases, there could be a decision to either drop these rows altogether or they can be fixed by their mod value. "
      ]
    },
    {
      "cell_type": "markdown",
      "metadata": {
        "id": "Eg50puN1-hMC",
        "colab_type": "text"
      },
      "source": [
        "### Feature Selection\n",
        "\n",
        "**Iteratiion I <br>**\n",
        "Year  <br> \n",
        "Organization_Group_Code  <br>\n",
        "Union_Code     <br>\n",
        "Overtime           <br>\n",
        "Other_Salaries      <br>\n",
        "Retirement          <br>\n",
        "Health_Dental        <br>\n",
        "Other_Benefits        <br>\n",
        "Total_Benefits     <br>\n",
        "Class    \n",
        "\n",
        "**Iteratiion II <br>**\n",
        "Year  <br> \n",
        "Organization_Group_Code  <br>\n",
        "Union_Code     <br>\n",
        "Job_Family_Code    <br>\n",
        "Overtime           <br>\n",
        "Other_Salaries      <br>\n",
        "Retirement          <br>\n",
        "Health_Dental        <br>\n",
        "Other_Benefits        <br>\n",
        "Total_Benefits     <br>\n",
        "Class    \n"
      ]
    },
    {
      "cell_type": "markdown",
      "metadata": {
        "id": "dOjF1d9oANV1",
        "colab_type": "text"
      },
      "source": [
        "In first iteration, categorical information including Department, Job Family, Job code was excluded <br>   \n",
        "Second Iteration consisted of included Job Family information as well. "
      ]
    },
    {
      "cell_type": "code",
      "metadata": {
        "id": "XSNxmbLtV1ZB",
        "colab_type": "code",
        "colab": {}
      },
      "source": [
        "## Second iteration columns\n",
        "\n",
        "train = df1.drop(columns=['Organization_Group',\n",
        "                         'Department',\n",
        "                         'Department_Code',\n",
        "                         'Union',\n",
        "                         'Job_Family',\n",
        "                         'Job',\n",
        "                         'Job_Code',\n",
        "                         'Employee_Identifier',\n",
        "                         'Sno',\n",
        "                         'Year_Type'], axis=1)\n",
        "\n",
        "test = df2.drop(columns=['Organization_Group',\n",
        "                         'Department',\n",
        "                         'Department_Code',\n",
        "                         'Union',\n",
        "                         'Job_Family',\n",
        "                         'Job',\n",
        "                         'Job_Code',\n",
        "                         'Employee_Identifier',\n",
        "                         'Sno',\n",
        "                         'Year_Type'], axis=1)"
      ],
      "execution_count": null,
      "outputs": []
    },
    {
      "cell_type": "code",
      "metadata": {
        "id": "T4T8k1jXWx5o",
        "colab_type": "code",
        "colab": {
          "base_uri": "https://localhost:8080/",
          "height": 642
        },
        "outputId": "952aa6ba-cdaf-4280-ef61-67735fcb7a77"
      },
      "source": [
        "train.info(), test.info()"
      ],
      "execution_count": null,
      "outputs": [
        {
          "output_type": "stream",
          "text": [
            "<class 'pandas.core.frame.DataFrame'>\n",
            "RangeIndex: 149087 entries, 0 to 149086\n",
            "Data columns (total 11 columns):\n",
            " #   Column                   Non-Null Count   Dtype   \n",
            "---  ------                   --------------   -----   \n",
            " 0   Year                     149087 non-null  int64   \n",
            " 1   Organization_Group_Code  149087 non-null  category\n",
            " 2   Union_Code               149087 non-null  category\n",
            " 3   Job_Family_Code          149087 non-null  category\n",
            " 4   Overtime                 149087 non-null  float64 \n",
            " 5   Other_Salaries           149087 non-null  float64 \n",
            " 6   Retirement               149087 non-null  float64 \n",
            " 7   Health_Dental            149087 non-null  float64 \n",
            " 8   Other_Benefits           149087 non-null  float64 \n",
            " 9   Total_Benefits           149087 non-null  float64 \n",
            " 10  Class                    149087 non-null  category\n",
            "dtypes: category(4), float64(6), int64(1)\n",
            "memory usage: 8.5 MB\n",
            "<class 'pandas.core.frame.DataFrame'>\n",
            "RangeIndex: 63895 entries, 0 to 63894\n",
            "Data columns (total 10 columns):\n",
            " #   Column                   Non-Null Count  Dtype   \n",
            "---  ------                   --------------  -----   \n",
            " 0   Year                     63895 non-null  int64   \n",
            " 1   Organization_Group_Code  63895 non-null  category\n",
            " 2   Union_Code               63895 non-null  category\n",
            " 3   Job_Family_Code          63895 non-null  category\n",
            " 4   Overtime                 63895 non-null  float64 \n",
            " 5   Other_Salaries           63895 non-null  float64 \n",
            " 6   Retirement               63895 non-null  float64 \n",
            " 7   Health_Dental            63895 non-null  float64 \n",
            " 8   Other_Benefits           63895 non-null  float64 \n",
            " 9   Total_Benefits           63895 non-null  float64 \n",
            "dtypes: category(3), float64(6), int64(1)\n",
            "memory usage: 3.6 MB\n"
          ],
          "name": "stdout"
        },
        {
          "output_type": "execute_result",
          "data": {
            "text/plain": [
              "(None, None)"
            ]
          },
          "metadata": {
            "tags": []
          },
          "execution_count": 39
        }
      ]
    },
    {
      "cell_type": "code",
      "metadata": {
        "id": "ev2yv8Qv6O0n",
        "colab_type": "code",
        "colab": {
          "base_uri": "https://localhost:8080/",
          "height": 69
        },
        "outputId": "9edfadd0-966f-415a-f7a6-498cce948d0e"
      },
      "source": [
        "print(train.shape, test.shape)\n",
        "features = train.drop('Class', axis=1)\n",
        "print(features.shape)\n",
        "target = train['Class']\n",
        "features_train = pd.get_dummies(features, drop_first=True)\n",
        "features_test = pd.get_dummies(test, drop_first=True)\n",
        "print(features_train.shape, features_test.shape)\n",
        "\n",
        "#features.head(2)\n",
        "#test.head(2)\n",
        "#features_train.info()\n",
        "#features_test.info()"
      ],
      "execution_count": null,
      "outputs": [
        {
          "output_type": "stream",
          "text": [
            "(149087, 11) (63895, 10)\n",
            "(149087, 10)\n",
            "(149087, 142) (63895, 142)\n"
          ],
          "name": "stdout"
        }
      ]
    },
    {
      "cell_type": "markdown",
      "metadata": {
        "id": "AKHODlZfDqTB",
        "colab_type": "text"
      },
      "source": [
        "Once dummy variables were formed we found that Union_Code_969 did not exist in test dataset. Similarly Job_Family_Code_AIR0 didn't exist in training dataset hence was removed as a column from test."
      ]
    },
    {
      "cell_type": "code",
      "metadata": {
        "id": "bLaD5q5hCUj4",
        "colab_type": "code",
        "colab": {}
      },
      "source": [
        "features_train.drop('Union_Code_969', axis=1, inplace=True)\n",
        "features_test.drop('Job_Family_Code_AIR0', axis=1, inplace=True)"
      ],
      "execution_count": null,
      "outputs": []
    },
    {
      "cell_type": "code",
      "metadata": {
        "id": "0tpYeGKq0eCo",
        "colab_type": "code",
        "colab": {}
      },
      "source": [
        "X_train = features_train.values\n",
        "y_train = target.values\n",
        "\n",
        "X_test = features_test.values"
      ],
      "execution_count": null,
      "outputs": []
    },
    {
      "cell_type": "code",
      "metadata": {
        "id": "poIStpgRoV6w",
        "colab_type": "code",
        "colab": {}
      },
      "source": [
        "sample = pd.read_csv('Hackathon_Sample Solution.csv')"
      ],
      "execution_count": null,
      "outputs": []
    },
    {
      "cell_type": "markdown",
      "metadata": {
        "id": "RU9yjz_2mVrs",
        "colab_type": "text"
      },
      "source": [
        "# Logistic Regression"
      ]
    },
    {
      "cell_type": "code",
      "metadata": {
        "id": "BE_q1lUU0FoB",
        "colab_type": "code",
        "colab": {
          "base_uri": "https://localhost:8080/",
          "height": 104
        },
        "outputId": "4c935af8-a644-4d3b-e585-c428efa28682"
      },
      "source": [
        "from sklearn.linear_model import LogisticRegression\n",
        "\n",
        "model = LogisticRegression(max_iter=10000)\n",
        "model.fit(X_train, y_train)"
      ],
      "execution_count": null,
      "outputs": [
        {
          "output_type": "execute_result",
          "data": {
            "text/plain": [
              "LogisticRegression(C=1.0, class_weight=None, dual=False, fit_intercept=True,\n",
              "                   intercept_scaling=1, l1_ratio=None, max_iter=10000,\n",
              "                   multi_class='auto', n_jobs=None, penalty='l2',\n",
              "                   random_state=None, solver='lbfgs', tol=0.0001, verbose=0,\n",
              "                   warm_start=False)"
            ]
          },
          "metadata": {
            "tags": []
          },
          "execution_count": 48
        }
      ]
    },
    {
      "cell_type": "code",
      "metadata": {
        "id": "lkKJdAKP7yf_",
        "colab_type": "code",
        "colab": {
          "base_uri": "https://localhost:8080/",
          "height": 34
        },
        "outputId": "ffdcb527-f9b8-4ee1-94fa-5890f529b979"
      },
      "source": [
        "predictions = model.predict(X_test)\n",
        "model.score(X_train, y_train)"
      ],
      "execution_count": null,
      "outputs": [
        {
          "output_type": "execute_result",
          "data": {
            "text/plain": [
              "0.8897288160604211"
            ]
          },
          "metadata": {
            "tags": []
          },
          "execution_count": 49
        }
      ]
    },
    {
      "cell_type": "code",
      "metadata": {
        "id": "SnI6uNGQDK7W",
        "colab_type": "code",
        "colab": {
          "base_uri": "https://localhost:8080/",
          "height": 34
        },
        "outputId": "e04b5777-5f5a-44e3-88e5-ef6d7d87975a"
      },
      "source": [
        "predictions"
      ],
      "execution_count": null,
      "outputs": [
        {
          "output_type": "execute_result",
          "data": {
            "text/plain": [
              "array([1, 3, 2, ..., 2, 2, 3])"
            ]
          },
          "metadata": {
            "tags": []
          },
          "execution_count": 50
        }
      ]
    },
    {
      "cell_type": "code",
      "metadata": {
        "id": "xOYYodtkH4ph",
        "colab_type": "code",
        "colab": {
          "base_uri": "https://localhost:8080/",
          "height": 106
        },
        "outputId": "f22f32aa-936e-498a-ac85-a1ac9c4fb371"
      },
      "source": [
        "num_folds = 5\n",
        "seed = 7\n",
        "\n",
        "kfold = KFold(n_splits=num_folds, random_state=seed)\n",
        "model = LogisticRegression(max_iter=10000)\n",
        "results = cross_val_score(model, X_train, y_train, cv=kfold)\n",
        "print(results)\n",
        "print(\"Accuracy: %.3f%% (%.3f%%)\" % (results.mean()*100.0, results.std()*100.0))"
      ],
      "execution_count": null,
      "outputs": [
        {
          "output_type": "stream",
          "text": [
            "/usr/local/lib/python3.6/dist-packages/sklearn/model_selection/_split.py:296: FutureWarning: Setting a random_state has no effect since shuffle is False. This will raise an error in 0.24. You should leave random_state to its default (None), or set shuffle=True.\n",
            "  FutureWarning\n"
          ],
          "name": "stderr"
        },
        {
          "output_type": "stream",
          "text": [
            "[0.88899323 0.88986518 0.88868766 0.89033102 0.89059932]\n",
            "Accuracy: 88.970% (0.074%)\n"
          ],
          "name": "stdout"
        }
      ]
    },
    {
      "cell_type": "markdown",
      "metadata": {
        "id": "IP_ErvLCmeZj",
        "colab_type": "text"
      },
      "source": [
        "# Decision Tree Classifier"
      ]
    },
    {
      "cell_type": "code",
      "metadata": {
        "id": "1hNpXcFbJjYZ",
        "colab_type": "code",
        "colab": {}
      },
      "source": [
        "from sklearn.tree import DecisionTreeClassifier"
      ],
      "execution_count": null,
      "outputs": []
    },
    {
      "cell_type": "markdown",
      "metadata": {
        "id": "w1jOxLeOGxlo",
        "colab_type": "text"
      },
      "source": [
        "### Cross Validation"
      ]
    },
    {
      "cell_type": "code",
      "metadata": {
        "id": "1GDvXsiYKON7",
        "colab_type": "code",
        "colab": {
          "base_uri": "https://localhost:8080/",
          "height": 124
        },
        "outputId": "e23cb867-11fd-474c-ff5f-612c214b2046"
      },
      "source": [
        "num_folds = 7\n",
        "#seed = 7\n",
        "\n",
        "kfold = KFold(n_splits=num_folds, random_state=seed)\n",
        "model = DecisionTreeClassifier(max_depth=20)\n",
        "results = cross_val_score(model, X_train, y_train, cv=kfold)\n",
        "print(results)\n",
        "print(\"Accuracy: %.3f%% (%.3f%%)\" % (results.mean()*100.0, results.std()*100.0))"
      ],
      "execution_count": null,
      "outputs": [
        {
          "output_type": "stream",
          "text": [
            "/usr/local/lib/python3.6/dist-packages/sklearn/model_selection/_split.py:296: FutureWarning: Setting a random_state has no effect since shuffle is False. This will raise an error in 0.24. You should leave random_state to its default (None), or set shuffle=True.\n",
            "  FutureWarning\n"
          ],
          "name": "stderr"
        },
        {
          "output_type": "stream",
          "text": [
            "[0.98075027 0.98187623 0.97990422 0.98023289 0.98248662 0.98192319\n",
            " 0.98126585]\n",
            "Accuracy: 98.121% (0.088%)\n"
          ],
          "name": "stdout"
        }
      ]
    },
    {
      "cell_type": "code",
      "metadata": {
        "id": "KODtOdxsGN5d",
        "colab_type": "code",
        "colab": {
          "base_uri": "https://localhost:8080/",
          "height": 352
        },
        "outputId": "2784adae-e3d1-4084-a5f2-d5cf4ec4ed6c"
      },
      "source": [
        "plt.hist(results)"
      ],
      "execution_count": null,
      "outputs": [
        {
          "output_type": "execute_result",
          "data": {
            "text/plain": [
              "(array([1., 1., 0., 1., 0., 1., 0., 2., 0., 1.]),\n",
              " array([0.97990422, 0.98016246, 0.9804207 , 0.98067894, 0.98093718,\n",
              "        0.98119542, 0.98145366, 0.9817119 , 0.98197014, 0.98222838,\n",
              "        0.98248662]),\n",
              " <a list of 10 Patch objects>)"
            ]
          },
          "metadata": {
            "tags": []
          },
          "execution_count": 91
        },
        {
          "output_type": "display_data",
          "data": {
            "image/png": "[encoded data removed]",
            "text/plain": [
              "<Figure size 432x288 with 1 Axes>"
            ]
          },
          "metadata": {
            "tags": [],
            "needs_background": "light"
          }
        }
      ]
    },
    {
      "cell_type": "markdown",
      "metadata": {
        "id": "FAZCfIGyG6UB",
        "colab_type": "text"
      },
      "source": [
        "## Training the model"
      ]
    },
    {
      "cell_type": "code",
      "metadata": {
        "id": "SpHMBmaZFg-5",
        "colab_type": "code",
        "colab": {
          "base_uri": "https://localhost:8080/",
          "height": 121
        },
        "outputId": "7aef6748-49ed-4fba-b13f-ea05522bf64d"
      },
      "source": [
        "model = DecisionTreeClassifier(max_depth=20)\n",
        "model.fit(X_train, y_train)"
      ],
      "execution_count": null,
      "outputs": [
        {
          "output_type": "execute_result",
          "data": {
            "text/plain": [
              "DecisionTreeClassifier(ccp_alpha=0.0, class_weight=None, criterion='gini',\n",
              "                       max_depth=20, max_features=None, max_leaf_nodes=None,\n",
              "                       min_impurity_decrease=0.0, min_impurity_split=None,\n",
              "                       min_samples_leaf=1, min_samples_split=2,\n",
              "                       min_weight_fraction_leaf=0.0, presort='deprecated',\n",
              "                       random_state=None, splitter='best')"
            ]
          },
          "metadata": {
            "tags": []
          },
          "execution_count": 92
        }
      ]
    },
    {
      "cell_type": "markdown",
      "metadata": {
        "id": "XqVnCxSTHEBX",
        "colab_type": "text"
      },
      "source": [
        "## Making predictions"
      ]
    },
    {
      "cell_type": "code",
      "metadata": {
        "id": "Ek0LgmTwKmTP",
        "colab_type": "code",
        "colab": {}
      },
      "source": [
        "predictions = model.predict(X_test)"
      ],
      "execution_count": null,
      "outputs": []
    },
    {
      "cell_type": "code",
      "metadata": {
        "id": "bEJitxhJK-re",
        "colab_type": "code",
        "colab": {
          "base_uri": "https://localhost:8080/",
          "height": 34
        },
        "outputId": "8dd09381-be41-41f9-918a-c1537a19f965"
      },
      "source": [
        "predictions\n",
        "len(predictions)\n",
        "# cross verifying to see if all values are there"
      ],
      "execution_count": null,
      "outputs": [
        {
          "output_type": "execute_result",
          "data": {
            "text/plain": [
              "array([1, 3, 2, ..., 2, 2, 3])"
            ]
          },
          "metadata": {
            "tags": []
          },
          "execution_count": 94
        },
        {
          "output_type": "execute_result",
          "data": {
            "text/plain": [
              "63895"
            ]
          },
          "metadata": {
            "tags": []
          },
          "execution_count": 94
        }
      ]
    },
    {
      "cell_type": "markdown",
      "metadata": {
        "id": "eg2pkNMeHRZ7",
        "colab_type": "text"
      },
      "source": [
        "## Generating the hackathon file "
      ]
    },
    {
      "cell_type": "code",
      "metadata": {
        "id": "xpPFvEIjLCbf",
        "colab_type": "code",
        "colab": {}
      },
      "source": [
        "sample = pd.read_csv('Hackathon_Sample Solution.csv')"
      ],
      "execution_count": null,
      "outputs": []
    },
    {
      "cell_type": "code",
      "metadata": {
        "id": "3z-QD5DDLoUD",
        "colab_type": "code",
        "colab": {
          "base_uri": "https://localhost:8080/",
          "height": 224
        },
        "outputId": "901487f1-a824-44fb-d44a-2b01d7fcbdee"
      },
      "source": [
        "sample.head()\n",
        "sample.shape"
      ],
      "execution_count": null,
      "outputs": [
        {
          "output_type": "execute_result",
          "data": {
            "text/html": [
              "<div>\n",
              "<style scoped>\n",
              "    .dataframe tbody tr th:only-of-type {\n",
              "        vertical-align: middle;\n",
              "    }\n",
              "\n",
              "    .dataframe tbody tr th {\n",
              "        vertical-align: top;\n",
              "    }\n",
              "\n",
              "    .dataframe thead th {\n",
              "        text-align: right;\n",
              "    }\n",
              "</style>\n",
              "<table border=\"1\" class=\"dataframe\">\n",
              "  <thead>\n",
              "    <tr style=\"text-align: right;\">\n",
              "      <th></th>\n",
              "      <th>ID</th>\n",
              "      <th>Class</th>\n",
              "    </tr>\n",
              "  </thead>\n",
              "  <tbody>\n",
              "    <tr>\n",
              "      <th>0</th>\n",
              "      <td>9240</td>\n",
              "      <td>1</td>\n",
              "    </tr>\n",
              "    <tr>\n",
              "      <th>1</th>\n",
              "      <td>209951</td>\n",
              "      <td>1</td>\n",
              "    </tr>\n",
              "    <tr>\n",
              "      <th>2</th>\n",
              "      <td>29879</td>\n",
              "      <td>1</td>\n",
              "    </tr>\n",
              "    <tr>\n",
              "      <th>3</th>\n",
              "      <td>177914</td>\n",
              "      <td>1</td>\n",
              "    </tr>\n",
              "    <tr>\n",
              "      <th>4</th>\n",
              "      <td>180406</td>\n",
              "      <td>1</td>\n",
              "    </tr>\n",
              "  </tbody>\n",
              "</table>\n",
              "</div>"
            ],
            "text/plain": [
              "       ID  Class\n",
              "0    9240      1\n",
              "1  209951      1\n",
              "2   29879      1\n",
              "3  177914      1\n",
              "4  180406      1"
            ]
          },
          "metadata": {
            "tags": []
          },
          "execution_count": 96
        },
        {
          "output_type": "execute_result",
          "data": {
            "text/plain": [
              "(63895, 2)"
            ]
          },
          "metadata": {
            "tags": []
          },
          "execution_count": 96
        }
      ]
    },
    {
      "cell_type": "code",
      "metadata": {
        "id": "_JJppeHbL4NE",
        "colab_type": "code",
        "colab": {
          "base_uri": "https://localhost:8080/",
          "height": 206
        },
        "outputId": "394d3e2f-1ed5-45d4-8dfb-41726a32dd7a"
      },
      "source": [
        "pred_df = pd.Series(predictions)\n",
        "sol = pd.concat([sample.ID, pred_df], axis=1) \n",
        "sol.head()"
      ],
      "execution_count": null,
      "outputs": [
        {
          "output_type": "execute_result",
          "data": {
            "text/html": [
              "<div>\n",
              "<style scoped>\n",
              "    .dataframe tbody tr th:only-of-type {\n",
              "        vertical-align: middle;\n",
              "    }\n",
              "\n",
              "    .dataframe tbody tr th {\n",
              "        vertical-align: top;\n",
              "    }\n",
              "\n",
              "    .dataframe thead th {\n",
              "        text-align: right;\n",
              "    }\n",
              "</style>\n",
              "<table border=\"1\" class=\"dataframe\">\n",
              "  <thead>\n",
              "    <tr style=\"text-align: right;\">\n",
              "      <th></th>\n",
              "      <th>ID</th>\n",
              "      <th>0</th>\n",
              "    </tr>\n",
              "  </thead>\n",
              "  <tbody>\n",
              "    <tr>\n",
              "      <th>0</th>\n",
              "      <td>9240</td>\n",
              "      <td>1</td>\n",
              "    </tr>\n",
              "    <tr>\n",
              "      <th>1</th>\n",
              "      <td>209951</td>\n",
              "      <td>3</td>\n",
              "    </tr>\n",
              "    <tr>\n",
              "      <th>2</th>\n",
              "      <td>29879</td>\n",
              "      <td>2</td>\n",
              "    </tr>\n",
              "    <tr>\n",
              "      <th>3</th>\n",
              "      <td>177914</td>\n",
              "      <td>3</td>\n",
              "    </tr>\n",
              "    <tr>\n",
              "      <th>4</th>\n",
              "      <td>180406</td>\n",
              "      <td>3</td>\n",
              "    </tr>\n",
              "  </tbody>\n",
              "</table>\n",
              "</div>"
            ],
            "text/plain": [
              "       ID  0\n",
              "0    9240  1\n",
              "1  209951  3\n",
              "2   29879  2\n",
              "3  177914  3\n",
              "4  180406  3"
            ]
          },
          "metadata": {
            "tags": []
          },
          "execution_count": 97
        }
      ]
    },
    {
      "cell_type": "code",
      "metadata": {
        "id": "mdxsmcw3NB4y",
        "colab_type": "code",
        "colab": {
          "base_uri": "https://localhost:8080/",
          "height": 206
        },
        "outputId": "77a976f0-bebe-403a-8d54-dc5c833b9316"
      },
      "source": [
        "sol.rename(columns = {0 : 'Class'}, inplace=True)\n",
        "sol.head()"
      ],
      "execution_count": null,
      "outputs": [
        {
          "output_type": "execute_result",
          "data": {
            "text/html": [
              "<div>\n",
              "<style scoped>\n",
              "    .dataframe tbody tr th:only-of-type {\n",
              "        vertical-align: middle;\n",
              "    }\n",
              "\n",
              "    .dataframe tbody tr th {\n",
              "        vertical-align: top;\n",
              "    }\n",
              "\n",
              "    .dataframe thead th {\n",
              "        text-align: right;\n",
              "    }\n",
              "</style>\n",
              "<table border=\"1\" class=\"dataframe\">\n",
              "  <thead>\n",
              "    <tr style=\"text-align: right;\">\n",
              "      <th></th>\n",
              "      <th>ID</th>\n",
              "      <th>Class</th>\n",
              "    </tr>\n",
              "  </thead>\n",
              "  <tbody>\n",
              "    <tr>\n",
              "      <th>0</th>\n",
              "      <td>9240</td>\n",
              "      <td>1</td>\n",
              "    </tr>\n",
              "    <tr>\n",
              "      <th>1</th>\n",
              "      <td>209951</td>\n",
              "      <td>3</td>\n",
              "    </tr>\n",
              "    <tr>\n",
              "      <th>2</th>\n",
              "      <td>29879</td>\n",
              "      <td>2</td>\n",
              "    </tr>\n",
              "    <tr>\n",
              "      <th>3</th>\n",
              "      <td>177914</td>\n",
              "      <td>3</td>\n",
              "    </tr>\n",
              "    <tr>\n",
              "      <th>4</th>\n",
              "      <td>180406</td>\n",
              "      <td>3</td>\n",
              "    </tr>\n",
              "  </tbody>\n",
              "</table>\n",
              "</div>"
            ],
            "text/plain": [
              "       ID  Class\n",
              "0    9240      1\n",
              "1  209951      3\n",
              "2   29879      2\n",
              "3  177914      3\n",
              "4  180406      3"
            ]
          },
          "metadata": {
            "tags": []
          },
          "execution_count": 98
        }
      ]
    },
    {
      "cell_type": "code",
      "metadata": {
        "id": "SskNNxLrNwam",
        "colab_type": "code",
        "colab": {}
      },
      "source": [
        "sol.to_csv('sol.csv')"
      ],
      "execution_count": null,
      "outputs": []
    },
    {
      "cell_type": "markdown",
      "metadata": {
        "id": "Vf6FMQGVTw5-",
        "colab_type": "text"
      },
      "source": [
        "# Random Forest"
      ]
    },
    {
      "cell_type": "code",
      "metadata": {
        "id": "Pf5tBFX7JSr8",
        "colab_type": "code",
        "colab": {}
      },
      "source": [
        "from sklearn.ensemble import RandomForestClassifier"
      ],
      "execution_count": null,
      "outputs": []
    },
    {
      "cell_type": "markdown",
      "metadata": {
        "id": "_-IXV28TJYZP",
        "colab_type": "text"
      },
      "source": [
        "## Cross Validation"
      ]
    },
    {
      "cell_type": "code",
      "metadata": {
        "id": "d2ZGQdR6URnk",
        "colab_type": "code",
        "colab": {
          "base_uri": "https://localhost:8080/",
          "height": 124
        },
        "outputId": "fd506922-3baf-4ad0-c6c4-b0b8bf617275"
      },
      "source": [
        "num_folds = 7\n",
        "#seed = 7\n",
        "\n",
        "kfold = KFold(n_splits=num_folds, random_state=seed)\n",
        "model = RandomForestClassifier(max_depth=20)\n",
        "results = cross_val_score(model, X_train, y_train, cv=kfold)\n",
        "print(results)\n",
        "print(\"Accuracy: %.3f%% (%.3f%%)\" % (results.mean()*100.0, results.std()*100.0))"
      ],
      "execution_count": null,
      "outputs": [
        {
          "output_type": "stream",
          "text": [
            "/usr/local/lib/python3.6/dist-packages/sklearn/model_selection/_split.py:296: FutureWarning: Setting a random_state has no effect since shuffle is False. This will raise an error in 0.24. You should leave random_state to its default (None), or set shuffle=True.\n",
            "  FutureWarning\n"
          ],
          "name": "stderr"
        },
        {
          "output_type": "stream",
          "text": [
            "[0.97995211 0.98018593 0.98225185 0.98074937 0.98319091 0.98004507\n",
            " 0.98201709]\n",
            "Accuracy: 98.120% (0.119%)\n"
          ],
          "name": "stdout"
        }
      ]
    },
    {
      "cell_type": "code",
      "metadata": {
        "id": "nHkVedFtJdUV",
        "colab_type": "code",
        "colab": {
          "base_uri": "https://localhost:8080/",
          "height": 352
        },
        "outputId": "0bb23c99-62e7-4940-fa95-d34a89e29051"
      },
      "source": [
        "plt.hist(results)"
      ],
      "execution_count": null,
      "outputs": [
        {
          "output_type": "execute_result",
          "data": {
            "text/plain": [
              "(array([3., 0., 1., 0., 0., 0., 1., 1., 0., 1.]),\n",
              " array([0.97995211, 0.98027599, 0.98059987, 0.98092375, 0.98124763,\n",
              "        0.98157151, 0.98189539, 0.98221927, 0.98254315, 0.98286703,\n",
              "        0.98319091]),\n",
              " <a list of 10 Patch objects>)"
            ]
          },
          "metadata": {
            "tags": []
          },
          "execution_count": 79
        },
        {
          "output_type": "display_data",
          "data": {
            "image/png": "[encoded data removed]",
            "text/plain": [
              "<Figure size 432x288 with 1 Axes>"
            ]
          },
          "metadata": {
            "tags": [],
            "needs_background": "light"
          }
        }
      ]
    },
    {
      "cell_type": "markdown",
      "metadata": {
        "id": "U92TaL9DJ7vC",
        "colab_type": "text"
      },
      "source": [
        "## Model Building and predictions"
      ]
    },
    {
      "cell_type": "code",
      "metadata": {
        "id": "cZ5i1hLXTwVS",
        "colab_type": "code",
        "colab": {
          "base_uri": "https://localhost:8080/",
          "height": 156
        },
        "outputId": "522fc2d1-5046-45a9-efb4-49fb0d9a995c"
      },
      "source": [
        "model = RandomForestClassifier()\n",
        "model.fit(X_train, y_train)"
      ],
      "execution_count": null,
      "outputs": [
        {
          "output_type": "execute_result",
          "data": {
            "text/plain": [
              "RandomForestClassifier(bootstrap=True, ccp_alpha=0.0, class_weight=None,\n",
              "                       criterion='gini', max_depth=None, max_features='auto',\n",
              "                       max_leaf_nodes=None, max_samples=None,\n",
              "                       min_impurity_decrease=0.0, min_impurity_split=None,\n",
              "                       min_samples_leaf=1, min_samples_split=2,\n",
              "                       min_weight_fraction_leaf=0.0, n_estimators=100,\n",
              "                       n_jobs=None, oob_score=False, random_state=None,\n",
              "                       verbose=0, warm_start=False)"
            ]
          },
          "metadata": {
            "tags": []
          },
          "execution_count": 72
        }
      ]
    },
    {
      "cell_type": "code",
      "metadata": {
        "id": "5oMZYU7vVBlE",
        "colab_type": "code",
        "colab": {}
      },
      "source": [
        "predictions = model.predict(X_test)"
      ],
      "execution_count": null,
      "outputs": []
    },
    {
      "cell_type": "markdown",
      "metadata": {
        "id": "zQoyzcuIKDc1",
        "colab_type": "text"
      },
      "source": [
        "## Generating the solutions file"
      ]
    },
    {
      "cell_type": "code",
      "metadata": {
        "id": "YWDY5MjNVVj3",
        "colab_type": "code",
        "colab": {
          "base_uri": "https://localhost:8080/",
          "height": 206
        },
        "outputId": "01710c0b-b75b-43c8-87ad-8af7f76659a0"
      },
      "source": [
        "pred_df = pd.Series(predictions)\n",
        "sol = pd.concat([sample.ID, pred_df], axis=1) \n",
        "sol.rename(columns = {0 : 'Class'}, inplace=True)\n",
        "sol.head()"
      ],
      "execution_count": null,
      "outputs": [
        {
          "output_type": "execute_result",
          "data": {
            "text/html": [
              "<div>\n",
              "<style scoped>\n",
              "    .dataframe tbody tr th:only-of-type {\n",
              "        vertical-align: middle;\n",
              "    }\n",
              "\n",
              "    .dataframe tbody tr th {\n",
              "        vertical-align: top;\n",
              "    }\n",
              "\n",
              "    .dataframe thead th {\n",
              "        text-align: right;\n",
              "    }\n",
              "</style>\n",
              "<table border=\"1\" class=\"dataframe\">\n",
              "  <thead>\n",
              "    <tr style=\"text-align: right;\">\n",
              "      <th></th>\n",
              "      <th>ID</th>\n",
              "      <th>Class</th>\n",
              "    </tr>\n",
              "  </thead>\n",
              "  <tbody>\n",
              "    <tr>\n",
              "      <th>0</th>\n",
              "      <td>9240</td>\n",
              "      <td>1</td>\n",
              "    </tr>\n",
              "    <tr>\n",
              "      <th>1</th>\n",
              "      <td>209951</td>\n",
              "      <td>3</td>\n",
              "    </tr>\n",
              "    <tr>\n",
              "      <th>2</th>\n",
              "      <td>29879</td>\n",
              "      <td>2</td>\n",
              "    </tr>\n",
              "    <tr>\n",
              "      <th>3</th>\n",
              "      <td>177914</td>\n",
              "      <td>3</td>\n",
              "    </tr>\n",
              "    <tr>\n",
              "      <th>4</th>\n",
              "      <td>180406</td>\n",
              "      <td>3</td>\n",
              "    </tr>\n",
              "  </tbody>\n",
              "</table>\n",
              "</div>"
            ],
            "text/plain": [
              "       ID  Class\n",
              "0    9240      1\n",
              "1  209951      3\n",
              "2   29879      2\n",
              "3  177914      3\n",
              "4  180406      3"
            ]
          },
          "metadata": {
            "tags": []
          },
          "execution_count": 75
        }
      ]
    },
    {
      "cell_type": "code",
      "metadata": {
        "id": "aT701rSwVe2x",
        "colab_type": "code",
        "colab": {}
      },
      "source": [
        "sol.to_csv('sol.csv')"
      ],
      "execution_count": null,
      "outputs": []
    },
    {
      "cell_type": "markdown",
      "metadata": {
        "id": "diBfMRh0k5KI",
        "colab_type": "text"
      },
      "source": [
        "# Bagging Classifier"
      ]
    },
    {
      "cell_type": "code",
      "metadata": {
        "id": "oeW3OLcfMbmA",
        "colab_type": "code",
        "colab": {}
      },
      "source": [
        "from sklearn.ensemble import BaggingClassifier"
      ],
      "execution_count": null,
      "outputs": []
    },
    {
      "cell_type": "markdown",
      "metadata": {
        "id": "wQYfe_KuoA5x",
        "colab_type": "text"
      },
      "source": [
        "### Cross Validation"
      ]
    },
    {
      "cell_type": "code",
      "metadata": {
        "id": "5381rKpan-jR",
        "colab_type": "code",
        "colab": {
          "base_uri": "https://localhost:8080/",
          "height": 69
        },
        "outputId": "76b13c6a-7e25-4cc3-8baa-bad5767a33cb"
      },
      "source": [
        "num_folds = 7\n",
        "#seed = 7\n",
        "\n",
        "kfold = KFold(n_splits=num_folds)\n",
        "model = BaggingClassifier(n_estimators=50)\n",
        "results = cross_val_score(model, X_train, y_train, cv=kfold)\n",
        "print(results)\n",
        "print(\"Accuracy: %.3f%% (%.3f%%)\" % (results.mean()*100.0, results.std()*100.0))"
      ],
      "execution_count": null,
      "outputs": [
        {
          "output_type": "stream",
          "text": [
            "[0.98722945 0.98628979 0.98666541 0.98624284 0.98741666 0.98666541\n",
            " 0.98675932]\n",
            "Accuracy: 98.675% (0.041%)\n"
          ],
          "name": "stdout"
        }
      ]
    },
    {
      "cell_type": "code",
      "metadata": {
        "id": "aWg7RiEOMqq_",
        "colab_type": "code",
        "colab": {
          "base_uri": "https://localhost:8080/",
          "height": 352
        },
        "outputId": "644896e2-fbb8-440d-cd3d-65b6e097a7f4"
      },
      "source": [
        "plt.hist(results)"
      ],
      "execution_count": null,
      "outputs": [
        {
          "output_type": "execute_result",
          "data": {
            "text/plain": [
              "(array([2., 0., 0., 2., 1., 0., 0., 0., 1., 1.]),\n",
              " array([0.98624284, 0.98636022, 0.9864776 , 0.98659499, 0.98671237,\n",
              "        0.98682975, 0.98694713, 0.98706451, 0.9871819 , 0.98729928,\n",
              "        0.98741666]),\n",
              " <a list of 10 Patch objects>)"
            ]
          },
          "metadata": {
            "tags": []
          },
          "execution_count": 82
        },
        {
          "output_type": "display_data",
          "data": {
            "image/png": "[encoded data removed]",
            "text/plain": [
              "<Figure size 432x288 with 1 Axes>"
            ]
          },
          "metadata": {
            "tags": [],
            "needs_background": "light"
          }
        }
      ]
    },
    {
      "cell_type": "markdown",
      "metadata": {
        "id": "s6FZzzYjM2PF",
        "colab_type": "text"
      },
      "source": [
        "## Model building and prediction"
      ]
    },
    {
      "cell_type": "code",
      "metadata": {
        "id": "3FPnA3Vcm42B",
        "colab_type": "code",
        "colab": {
          "base_uri": "https://localhost:8080/",
          "height": 86
        },
        "outputId": "4e1053d4-2115-4634-b921-0163fc99a0b7"
      },
      "source": [
        "model = BaggingClassifier(n_estimators=50)\n",
        "model.fit(X_train, y_train)\n",
        "predictions = model.predict(X_test)"
      ],
      "execution_count": null,
      "outputs": [
        {
          "output_type": "execute_result",
          "data": {
            "text/plain": [
              "BaggingClassifier(base_estimator=None, bootstrap=True, bootstrap_features=False,\n",
              "                  max_features=1.0, max_samples=1.0, n_estimators=50,\n",
              "                  n_jobs=None, oob_score=False, random_state=None, verbose=0,\n",
              "                  warm_start=False)"
            ]
          },
          "metadata": {
            "tags": []
          },
          "execution_count": 83
        }
      ]
    },
    {
      "cell_type": "markdown",
      "metadata": {
        "id": "4LEPBzQJM9bE",
        "colab_type": "text"
      },
      "source": [
        "## Generating Solutions File"
      ]
    },
    {
      "cell_type": "code",
      "metadata": {
        "id": "m7qkVJAxorMa",
        "colab_type": "code",
        "colab": {
          "base_uri": "https://localhost:8080/",
          "height": 206
        },
        "outputId": "afe4c94b-6265-4061-ff59-6e384f91f927"
      },
      "source": [
        "pred_df = pd.Series(predictions)\n",
        "sol = pd.concat([sample.ID, pred_df], axis=1) \n",
        "sol.rename(columns = {0 : 'Class'}, inplace=True)\n",
        "sol.head()"
      ],
      "execution_count": null,
      "outputs": [
        {
          "output_type": "execute_result",
          "data": {
            "text/html": [
              "<div>\n",
              "<style scoped>\n",
              "    .dataframe tbody tr th:only-of-type {\n",
              "        vertical-align: middle;\n",
              "    }\n",
              "\n",
              "    .dataframe tbody tr th {\n",
              "        vertical-align: top;\n",
              "    }\n",
              "\n",
              "    .dataframe thead th {\n",
              "        text-align: right;\n",
              "    }\n",
              "</style>\n",
              "<table border=\"1\" class=\"dataframe\">\n",
              "  <thead>\n",
              "    <tr style=\"text-align: right;\">\n",
              "      <th></th>\n",
              "      <th>ID</th>\n",
              "      <th>Class</th>\n",
              "    </tr>\n",
              "  </thead>\n",
              "  <tbody>\n",
              "    <tr>\n",
              "      <th>0</th>\n",
              "      <td>9240</td>\n",
              "      <td>1</td>\n",
              "    </tr>\n",
              "    <tr>\n",
              "      <th>1</th>\n",
              "      <td>209951</td>\n",
              "      <td>3</td>\n",
              "    </tr>\n",
              "    <tr>\n",
              "      <th>2</th>\n",
              "      <td>29879</td>\n",
              "      <td>2</td>\n",
              "    </tr>\n",
              "    <tr>\n",
              "      <th>3</th>\n",
              "      <td>177914</td>\n",
              "      <td>3</td>\n",
              "    </tr>\n",
              "    <tr>\n",
              "      <th>4</th>\n",
              "      <td>180406</td>\n",
              "      <td>3</td>\n",
              "    </tr>\n",
              "  </tbody>\n",
              "</table>\n",
              "</div>"
            ],
            "text/plain": [
              "       ID  Class\n",
              "0    9240      1\n",
              "1  209951      3\n",
              "2   29879      2\n",
              "3  177914      3\n",
              "4  180406      3"
            ]
          },
          "metadata": {
            "tags": []
          },
          "execution_count": 84
        }
      ]
    },
    {
      "cell_type": "code",
      "metadata": {
        "id": "OHIAkPnzpFR2",
        "colab_type": "code",
        "colab": {}
      },
      "source": [
        "sol.to_csv('sol.csv')"
      ],
      "execution_count": null,
      "outputs": []
    },
    {
      "cell_type": "markdown",
      "metadata": {
        "id": "tIcK1n85wy3_",
        "colab_type": "text"
      },
      "source": [
        "# Adaboost Classifier"
      ]
    },
    {
      "cell_type": "code",
      "metadata": {
        "id": "0Dcyol_5NT_O",
        "colab_type": "code",
        "colab": {}
      },
      "source": [
        "from sklearn.ensemble import AdaBoostClassifier"
      ],
      "execution_count": null,
      "outputs": []
    },
    {
      "cell_type": "markdown",
      "metadata": {
        "id": "Ks9ORJ1dNa8x",
        "colab_type": "text"
      },
      "source": [
        "## Cross Validation"
      ]
    },
    {
      "cell_type": "code",
      "metadata": {
        "id": "8NZWgP6FymEt",
        "colab_type": "code",
        "colab": {
          "base_uri": "https://localhost:8080/",
          "height": 52
        },
        "outputId": "535bf384-bd7b-4b7e-e239-8472b9371cdb"
      },
      "source": [
        "num_folds = 5\n",
        "#seed = 7\n",
        "\n",
        "kfold = KFold(n_splits=num_folds)\n",
        "model = AdaBoostClassifier(n_estimators=50)\n",
        "results = cross_val_score(model, X_train, y_train, cv=kfold)\n",
        "print(results)\n",
        "print(\"Accuracy: %.3f%% (%.3f%%)\" % (results.mean()*100.0, results.std()*100.0))"
      ],
      "execution_count": null,
      "outputs": [
        {
          "output_type": "stream",
          "text": [
            "[0.94114293 0.94292038 0.94093973 0.93235403 0.9314485 ]\n",
            "Accuracy: 93.776% (0.484%)\n"
          ],
          "name": "stdout"
        }
      ]
    },
    {
      "cell_type": "code",
      "metadata": {
        "id": "i0oaVhx4N4Xl",
        "colab_type": "code",
        "colab": {
          "base_uri": "https://localhost:8080/",
          "height": 352
        },
        "outputId": "f7cf6e18-befa-43d3-c6e8-85b198606c86"
      },
      "source": [
        "plt.hist(results)"
      ],
      "execution_count": null,
      "outputs": [
        {
          "output_type": "execute_result",
          "data": {
            "text/plain": [
              "(array([2., 0., 0., 0., 0., 0., 0., 0., 2., 1.]),\n",
              " array([0.9314485 , 0.93259569, 0.93374288, 0.93489007, 0.93603725,\n",
              "        0.93718444, 0.93833163, 0.93947882, 0.94062601, 0.9417732 ,\n",
              "        0.94292038]),\n",
              " <a list of 10 Patch objects>)"
            ]
          },
          "metadata": {
            "tags": []
          },
          "execution_count": 102
        },
        {
          "output_type": "display_data",
          "data": {
            "image/png": "[encoded data removed]",
            "text/plain": [
              "<Figure size 432x288 with 1 Axes>"
            ]
          },
          "metadata": {
            "tags": [],
            "needs_background": "light"
          }
        }
      ]
    },
    {
      "cell_type": "markdown",
      "metadata": {
        "id": "iCyVsCRLNmyC",
        "colab_type": "text"
      },
      "source": [
        "## Model building and predictions"
      ]
    },
    {
      "cell_type": "code",
      "metadata": {
        "id": "DENh7_Bgw3xN",
        "colab_type": "code",
        "colab": {
          "base_uri": "https://localhost:8080/",
          "height": 52
        },
        "outputId": "ef334933-c624-4523-fad6-1f6e8fffad41"
      },
      "source": [
        "model = AdaBoostClassifier(n_estimators=70, learning_rate=0.1)   ##base_estimator=dt_model, \n",
        "model.fit(X_train, y_train)"
      ],
      "execution_count": null,
      "outputs": [
        {
          "output_type": "execute_result",
          "data": {
            "text/plain": [
              "AdaBoostClassifier(algorithm='SAMME.R', base_estimator=None, learning_rate=0.1,\n",
              "                   n_estimators=70, random_state=None)"
            ]
          },
          "metadata": {
            "tags": []
          },
          "execution_count": 103
        }
      ]
    },
    {
      "cell_type": "code",
      "metadata": {
        "id": "hKXD2Z5-xdsF",
        "colab_type": "code",
        "colab": {}
      },
      "source": [
        "predictions = model.predict(X_test)"
      ],
      "execution_count": null,
      "outputs": []
    },
    {
      "cell_type": "markdown",
      "metadata": {
        "id": "-HhYUmHsOK5d",
        "colab_type": "text"
      },
      "source": [
        "## Generating the solutions file"
      ]
    },
    {
      "cell_type": "code",
      "metadata": {
        "id": "BzuH1VqRxo4U",
        "colab_type": "code",
        "colab": {
          "base_uri": "https://localhost:8080/",
          "height": 206
        },
        "outputId": "5d2f92c5-6059-4f9e-c930-64c777458cee"
      },
      "source": [
        "pred_df = pd.Series(predictions)\n",
        "sol = pd.concat([sample.ID, pred_df], axis=1) \n",
        "sol.rename(columns = {0 : 'Class'}, inplace=True)\n",
        "sol.head()"
      ],
      "execution_count": null,
      "outputs": [
        {
          "output_type": "execute_result",
          "data": {
            "text/html": [
              "<div>\n",
              "<style scoped>\n",
              "    .dataframe tbody tr th:only-of-type {\n",
              "        vertical-align: middle;\n",
              "    }\n",
              "\n",
              "    .dataframe tbody tr th {\n",
              "        vertical-align: top;\n",
              "    }\n",
              "\n",
              "    .dataframe thead th {\n",
              "        text-align: right;\n",
              "    }\n",
              "</style>\n",
              "<table border=\"1\" class=\"dataframe\">\n",
              "  <thead>\n",
              "    <tr style=\"text-align: right;\">\n",
              "      <th></th>\n",
              "      <th>ID</th>\n",
              "      <th>Class</th>\n",
              "    </tr>\n",
              "  </thead>\n",
              "  <tbody>\n",
              "    <tr>\n",
              "      <th>0</th>\n",
              "      <td>9240</td>\n",
              "      <td>1</td>\n",
              "    </tr>\n",
              "    <tr>\n",
              "      <th>1</th>\n",
              "      <td>209951</td>\n",
              "      <td>3</td>\n",
              "    </tr>\n",
              "    <tr>\n",
              "      <th>2</th>\n",
              "      <td>29879</td>\n",
              "      <td>2</td>\n",
              "    </tr>\n",
              "    <tr>\n",
              "      <th>3</th>\n",
              "      <td>177914</td>\n",
              "      <td>3</td>\n",
              "    </tr>\n",
              "    <tr>\n",
              "      <th>4</th>\n",
              "      <td>180406</td>\n",
              "      <td>3</td>\n",
              "    </tr>\n",
              "  </tbody>\n",
              "</table>\n",
              "</div>"
            ],
            "text/plain": [
              "       ID  Class\n",
              "0    9240      1\n",
              "1  209951      3\n",
              "2   29879      2\n",
              "3  177914      3\n",
              "4  180406      3"
            ]
          },
          "metadata": {
            "tags": []
          },
          "execution_count": 105
        }
      ]
    },
    {
      "cell_type": "code",
      "metadata": {
        "id": "NGmi-JFyxtLo",
        "colab_type": "code",
        "colab": {}
      },
      "source": [
        "sol.to_csv('sol.csv')"
      ],
      "execution_count": null,
      "outputs": []
    },
    {
      "cell_type": "markdown",
      "metadata": {
        "id": "qm_Di7fQzUKX",
        "colab_type": "text"
      },
      "source": [
        "# Gradient Boost Classifier"
      ]
    },
    {
      "cell_type": "code",
      "metadata": {
        "id": "SiV4JZnQPQim",
        "colab_type": "code",
        "colab": {}
      },
      "source": [
        "from sklearn.ensemble import GradientBoostingClassifier"
      ],
      "execution_count": null,
      "outputs": []
    },
    {
      "cell_type": "markdown",
      "metadata": {
        "id": "OKj35HO9PhYl",
        "colab_type": "text"
      },
      "source": [
        "## Cross Validation"
      ]
    },
    {
      "cell_type": "code",
      "metadata": {
        "id": "fQipauTT0dqz",
        "colab_type": "code",
        "colab": {
          "base_uri": "https://localhost:8080/",
          "height": 52
        },
        "outputId": "e5662125-b9fc-4336-ba6f-98379ef60897"
      },
      "source": [
        "num_folds = 5\n",
        "#seed = 7\n",
        "\n",
        "kfold = KFold(n_splits=num_folds)\n",
        "model = AdaBoostClassifier(n_estimators=50)\n",
        "results = cross_val_score(model, X_train, y_train, cv=kfold)\n",
        "print(results)\n",
        "print(\"Accuracy: %.3f%% (%.3f%%)\" % (results.mean()*100.0, results.std()*100.0))"
      ],
      "execution_count": null,
      "outputs": [
        {
          "output_type": "stream",
          "text": [
            "[0.94114293 0.94292038 0.94093973 0.93235403 0.9314485 ]\n",
            "Accuracy: 93.776% (0.484%)\n"
          ],
          "name": "stdout"
        }
      ]
    },
    {
      "cell_type": "code",
      "metadata": {
        "id": "rBiadrxNZHG4",
        "colab_type": "code",
        "colab": {
          "base_uri": "https://localhost:8080/",
          "height": 352
        },
        "outputId": "36ee013a-418b-4cf0-cede-48ead6ebd3fc"
      },
      "source": [
        "plt.hist(results)"
      ],
      "execution_count": null,
      "outputs": [
        {
          "output_type": "execute_result",
          "data": {
            "text/plain": [
              "(array([2., 0., 0., 0., 0., 0., 0., 0., 2., 1.]),\n",
              " array([0.9314485 , 0.93259569, 0.93374288, 0.93489007, 0.93603725,\n",
              "        0.93718444, 0.93833163, 0.93947882, 0.94062601, 0.9417732 ,\n",
              "        0.94292038]),\n",
              " <a list of 10 Patch objects>)"
            ]
          },
          "metadata": {
            "tags": []
          },
          "execution_count": 109
        },
        {
          "output_type": "display_data",
          "data": {
            "image/png": "[encoded data removed]",
            "text/plain": [
              "<Figure size 432x288 with 1 Axes>"
            ]
          },
          "metadata": {
            "tags": [],
            "needs_background": "light"
          }
        }
      ]
    },
    {
      "cell_type": "markdown",
      "metadata": {
        "id": "xyNWs516PlOo",
        "colab_type": "text"
      },
      "source": [
        "## Model building"
      ]
    },
    {
      "cell_type": "code",
      "metadata": {
        "id": "I-JO_07-zXDi",
        "colab_type": "code",
        "colab": {}
      },
      "source": [
        "model = GradientBoostingClassifier(n_estimators = 50, learning_rate = 0.1, max_depth=20)\n",
        "model = model.fit(X_train, y_train)"
      ],
      "execution_count": null,
      "outputs": []
    },
    {
      "cell_type": "markdown",
      "metadata": {
        "id": "OM2mAtKoPp1F",
        "colab_type": "text"
      },
      "source": [
        "## Predictions and generating the Solutions file"
      ]
    },
    {
      "cell_type": "code",
      "metadata": {
        "id": "sx7WKN0d0fDV",
        "colab_type": "code",
        "colab": {
          "base_uri": "https://localhost:8080/",
          "height": 206
        },
        "outputId": "7be35245-7f17-47ef-b55e-e32dbb281d30"
      },
      "source": [
        "predictions = model.predict(X_test)\n",
        "pred_df = pd.Series(predictions)\n",
        "sol = pd.concat([sample.ID, pred_df], axis=1) \n",
        "sol.rename(columns = {0 : 'Class'}, inplace=True)\n",
        "sol.head()\n",
        "sol.to_csv('sol.csv')"
      ],
      "execution_count": null,
      "outputs": [
        {
          "output_type": "execute_result",
          "data": {
            "text/html": [
              "<div>\n",
              "<style scoped>\n",
              "    .dataframe tbody tr th:only-of-type {\n",
              "        vertical-align: middle;\n",
              "    }\n",
              "\n",
              "    .dataframe tbody tr th {\n",
              "        vertical-align: top;\n",
              "    }\n",
              "\n",
              "    .dataframe thead th {\n",
              "        text-align: right;\n",
              "    }\n",
              "</style>\n",
              "<table border=\"1\" class=\"dataframe\">\n",
              "  <thead>\n",
              "    <tr style=\"text-align: right;\">\n",
              "      <th></th>\n",
              "      <th>ID</th>\n",
              "      <th>Class</th>\n",
              "    </tr>\n",
              "  </thead>\n",
              "  <tbody>\n",
              "    <tr>\n",
              "      <th>0</th>\n",
              "      <td>9240</td>\n",
              "      <td>1</td>\n",
              "    </tr>\n",
              "    <tr>\n",
              "      <th>1</th>\n",
              "      <td>209951</td>\n",
              "      <td>3</td>\n",
              "    </tr>\n",
              "    <tr>\n",
              "      <th>2</th>\n",
              "      <td>29879</td>\n",
              "      <td>2</td>\n",
              "    </tr>\n",
              "    <tr>\n",
              "      <th>3</th>\n",
              "      <td>177914</td>\n",
              "      <td>3</td>\n",
              "    </tr>\n",
              "    <tr>\n",
              "      <th>4</th>\n",
              "      <td>180406</td>\n",
              "      <td>3</td>\n",
              "    </tr>\n",
              "  </tbody>\n",
              "</table>\n",
              "</div>"
            ],
            "text/plain": [
              "       ID  Class\n",
              "0    9240      1\n",
              "1  209951      3\n",
              "2   29879      2\n",
              "3  177914      3\n",
              "4  180406      3"
            ]
          },
          "metadata": {
            "tags": []
          },
          "execution_count": 111
        }
      ]
    },
    {
      "cell_type": "markdown",
      "metadata": {
        "id": "Kfkx7EjV2hPK",
        "colab_type": "text"
      },
      "source": [
        "# XGBoost Classifier"
      ]
    },
    {
      "cell_type": "code",
      "metadata": {
        "id": "hSIdfzCkZXGk",
        "colab_type": "code",
        "colab": {}
      },
      "source": [
        "from xgboost import XGBClassifier, plot_importance"
      ],
      "execution_count": null,
      "outputs": []
    },
    {
      "cell_type": "markdown",
      "metadata": {
        "id": "sSyVXBj-ZaLy",
        "colab_type": "text"
      },
      "source": [
        "## Cross Validation"
      ]
    },
    {
      "cell_type": "code",
      "metadata": {
        "id": "Eqf_Q0m74fMG",
        "colab_type": "code",
        "colab": {
          "base_uri": "https://localhost:8080/",
          "height": 52
        },
        "outputId": "bbf404c8-790f-42a6-b715-5fbc79ea4b93"
      },
      "source": [
        "num_folds = 5\n",
        "#seed = 7\n",
        "\n",
        "kfold = KFold(n_splits=num_folds)\n",
        "model = XGBClassifier(n_estimators=50, max_depth=20)\n",
        "results = cross_val_score(model, X_train, y_train, cv=kfold)\n",
        "print(results)\n",
        "print(\"Accuracy: %.3f%% (%.3f%%)\" % (results.mean()*100.0, results.std()*100.0))"
      ],
      "execution_count": null,
      "outputs": [
        {
          "output_type": "stream",
          "text": [
            "[0.98785968 0.98785968 0.98735621 0.98856357 0.98829527]\n",
            "Accuracy: 98.799% (0.041%)\n"
          ],
          "name": "stdout"
        }
      ]
    },
    {
      "cell_type": "code",
      "metadata": {
        "id": "lhZV_OAyaDT5",
        "colab_type": "code",
        "colab": {
          "base_uri": "https://localhost:8080/",
          "height": 352
        },
        "outputId": "704603d0-6794-4e54-eb58-da7bb1807cdd"
      },
      "source": [
        "plt.hist(results)"
      ],
      "execution_count": null,
      "outputs": [
        {
          "output_type": "execute_result",
          "data": {
            "text/plain": [
              "(array([1., 0., 0., 0., 2., 0., 0., 1., 0., 1.]),\n",
              " array([0.98735621, 0.98747694, 0.98759768, 0.98771842, 0.98783915,\n",
              "        0.98795989, 0.98808063, 0.98820136, 0.9883221 , 0.98844283,\n",
              "        0.98856357]),\n",
              " <a list of 10 Patch objects>)"
            ]
          },
          "metadata": {
            "tags": []
          },
          "execution_count": 118
        },
        {
          "output_type": "display_data",
          "data": {
            "image/png": "[encoded data removed]",
            "text/plain": [
              "<Figure size 432x288 with 1 Axes>"
            ]
          },
          "metadata": {
            "tags": [],
            "needs_background": "light"
          }
        }
      ]
    },
    {
      "cell_type": "markdown",
      "metadata": {
        "id": "P6K4kyzFZiX1",
        "colab_type": "text"
      },
      "source": [
        "## Model building and prediction"
      ]
    },
    {
      "cell_type": "code",
      "metadata": {
        "id": "LocDMloh2kEs",
        "colab_type": "code",
        "colab": {
          "base_uri": "https://localhost:8080/",
          "height": 139
        },
        "outputId": "bdee2b1a-a434-464d-cedf-9a36e8e0630b"
      },
      "source": [
        "model = XGBClassifier(n_estimators=50, max_depth=20)\n",
        "model.fit(X_train,y_train)\n",
        "predictions = model.predict(X_test)"
      ],
      "execution_count": null,
      "outputs": [
        {
          "output_type": "execute_result",
          "data": {
            "text/plain": [
              "XGBClassifier(base_score=0.5, booster='gbtree', colsample_bylevel=1,\n",
              "              colsample_bynode=1, colsample_bytree=1, gamma=0,\n",
              "              learning_rate=0.1, max_delta_step=0, max_depth=20,\n",
              "              min_child_weight=1, missing=None, n_estimators=50, n_jobs=1,\n",
              "              nthread=None, objective='multi:softprob', random_state=0,\n",
              "              reg_alpha=0, reg_lambda=1, scale_pos_weight=1, seed=None,\n",
              "              silent=None, subsample=1, verbosity=1)"
            ]
          },
          "metadata": {
            "tags": []
          },
          "execution_count": 116
        }
      ]
    },
    {
      "cell_type": "markdown",
      "metadata": {
        "id": "19maJP18Zqu9",
        "colab_type": "text"
      },
      "source": [
        "## Generating the solutions file"
      ]
    },
    {
      "cell_type": "code",
      "metadata": {
        "id": "zGsoKmoAAC2-",
        "colab_type": "code",
        "colab": {
          "base_uri": "https://localhost:8080/",
          "height": 206
        },
        "outputId": "c41db2aa-14cf-406f-aeec-fe3af5d103ea"
      },
      "source": [
        "pred_df = pd.Series(predictions)\n",
        "sol = pd.concat([sample.ID, pred_df], axis=1) \n",
        "sol.rename(columns = {0 : 'Class'}, inplace=True)\n",
        "sol.head()\n",
        "sol.to_csv('sol.csv')"
      ],
      "execution_count": null,
      "outputs": [
        {
          "output_type": "execute_result",
          "data": {
            "text/html": [
              "<div>\n",
              "<style scoped>\n",
              "    .dataframe tbody tr th:only-of-type {\n",
              "        vertical-align: middle;\n",
              "    }\n",
              "\n",
              "    .dataframe tbody tr th {\n",
              "        vertical-align: top;\n",
              "    }\n",
              "\n",
              "    .dataframe thead th {\n",
              "        text-align: right;\n",
              "    }\n",
              "</style>\n",
              "<table border=\"1\" class=\"dataframe\">\n",
              "  <thead>\n",
              "    <tr style=\"text-align: right;\">\n",
              "      <th></th>\n",
              "      <th>ID</th>\n",
              "      <th>Class</th>\n",
              "    </tr>\n",
              "  </thead>\n",
              "  <tbody>\n",
              "    <tr>\n",
              "      <th>0</th>\n",
              "      <td>9240</td>\n",
              "      <td>1</td>\n",
              "    </tr>\n",
              "    <tr>\n",
              "      <th>1</th>\n",
              "      <td>209951</td>\n",
              "      <td>3</td>\n",
              "    </tr>\n",
              "    <tr>\n",
              "      <th>2</th>\n",
              "      <td>29879</td>\n",
              "      <td>2</td>\n",
              "    </tr>\n",
              "    <tr>\n",
              "      <th>3</th>\n",
              "      <td>177914</td>\n",
              "      <td>3</td>\n",
              "    </tr>\n",
              "    <tr>\n",
              "      <th>4</th>\n",
              "      <td>180406</td>\n",
              "      <td>3</td>\n",
              "    </tr>\n",
              "  </tbody>\n",
              "</table>\n",
              "</div>"
            ],
            "text/plain": [
              "       ID  Class\n",
              "0    9240      1\n",
              "1  209951      3\n",
              "2   29879      2\n",
              "3  177914      3\n",
              "4  180406      3"
            ]
          },
          "metadata": {
            "tags": []
          },
          "execution_count": 117
        }
      ]
    },
    {
      "cell_type": "markdown",
      "metadata": {
        "id": "V_5ozLT9JxeG",
        "colab_type": "text"
      },
      "source": [
        "# Conclusion"
      ]
    },
    {
      "cell_type": "markdown",
      "metadata": {
        "id": "PNVvj0EBJ3a4",
        "colab_type": "text"
      },
      "source": [
        "Out of all the classifiers tested in Iteration I and II, XGBoost turned out to be well performing one. It gave the winning accuracies of 98.81% and 98.83%"
      ]
    },
    {
      "cell_type": "markdown",
      "metadata": {
        "id": "6CZPiEQGKgKC",
        "colab_type": "text"
      },
      "source": [
        "# Future Enhancements"
      ]
    },
    {
      "cell_type": "markdown",
      "metadata": {
        "id": "DJZ0wMYjKkEM",
        "colab_type": "text"
      },
      "source": [
        "Fixing existing quality issues  \n",
        "Clustering  \n",
        "Hyper parameter tuning  "
      ]
    },
    {
      "cell_type": "markdown",
      "metadata": {
        "id": "PSQ5-rELK_VB",
        "colab_type": "text"
      },
      "source": [
        "# Thank You!"
      ]
    }
  ]
}